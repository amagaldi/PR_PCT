{
 "cells": [
  {
   "cell_type": "markdown",
   "metadata": {},
   "source": [
    "# Tarea 2\n",
    "Diana Islas Flores"
   ]
  },
  {
   "cell_type": "markdown",
   "metadata": {},
   "source": [
    "Problema 1: hacer programa que extraiga la diagonal de una matriz cuadrada "
   ]
  },
  {
   "cell_type": "code",
   "execution_count": 1,
   "metadata": {},
   "outputs": [
    {
     "name": "stdout",
     "output_type": "stream",
     "text": [
      "[[  1   2   3   4   5   6   7   8   9  10]\n",
      " [ 11  12  13  14  15  16  17  18  19  20]\n",
      " [ 21  22  23  24  25  26  27  28  29  30]\n",
      " [ 31  32  33  34  35  36  37  38  39  40]\n",
      " [ 41  42  43  44  45  46  47  48  49  50]\n",
      " [ 51  52  53  54  55  56  57  58  59  60]\n",
      " [ 61  62  63  64  65  66  67  68  69  70]\n",
      " [ 71  72  73  74  75  76  77  78  79  80]\n",
      " [ 81  82  83  84  85  86  87  88  89  90]\n",
      " [ 91  92  93  94  95  96  97  98  99 100]]\n"
     ]
    }
   ],
   "source": [
    "import numpy as np\n",
    "\n",
    "m = np.array(range(1,101)).reshape(10, 10)\n",
    "print m"
   ]
  },
  {
   "cell_type": "markdown",
   "metadata": {},
   "source": [
    "La siguiente funcion hace un array que obtenga los valores de la diagonal. Si los indices de cada elemento de la matriz cuadrada estan dados por (i,j)(es decir m[i,j] es el elemento del renglon i y la columna j de la matriz), la diagonal de la matriz tiene los indices iguales (j = i). Por lo tanto, la funcion da los elementos m[i,i] de la matriz. "
   ]
  },
  {
   "cell_type": "code",
   "execution_count": 2,
   "metadata": {},
   "outputs": [],
   "source": [
    "def diag_print(m):\n",
    "    b = np.array( [m[i,i] for i in xrange(10)])\n",
    "    return b"
   ]
  },
  {
   "cell_type": "code",
   "execution_count": 3,
   "metadata": {},
   "outputs": [
    {
     "name": "stdout",
     "output_type": "stream",
     "text": [
      "[  1  12  23  34  45  56  67  78  89 100]\n"
     ]
    }
   ],
   "source": [
    "c = diag_print(m)\n",
    "print c"
   ]
  },
  {
   "cell_type": "markdown",
   "metadata": {},
   "source": [
    ".\n",
    "\n",
    "\n",
    "Problema 2: optimize de scipy para funcion de dos variables\n",
    "\n",
    "Matematicamente, no se puede encontrar los ceros de una funcion de dos variables sin tener una constante. Es decir, queremos ver donde cruzan los ejes por lo tanto encontrar donde cruza el eje x, y = 0 y obtener el cero para f(x,0)(que es funcion de una variable) y para ver donde cruza el eje y, x = 0 y se obtiene el cero para f(0,y). Por lo tanto, para python y scipy, no hay funcion de dos variables. La siguiente funcion calcula los ceros para cada eje como se explico anteriormente."
   ]
  },
  {
   "cell_type": "code",
   "execution_count": 4,
   "metadata": {},
   "outputs": [],
   "source": [
    "import scipy.optimize as optimize\n",
    "\n",
    "def ceros(g,x0,y0):\n",
    "    def g_x0(x,y = 0):\n",
    "        return g(x,y)\n",
    "    def g_y0(y,x = 0):\n",
    "        return g(x,y)\n",
    "    a = optimize.newton(g_x0,x0)\n",
    "    b = optimize.newton(g_y0,y0)\n",
    "    print 'cero del eje x =', a\n",
    "    print 'cero del eje y =', b"
   ]
  },
  {
   "cell_type": "markdown",
   "metadata": {},
   "source": [
    "ejemplo:\n"
   ]
  },
  {
   "cell_type": "code",
   "execution_count": 5,
   "metadata": {},
   "outputs": [],
   "source": [
    "def g(x,y):\n",
    "    return (x**2 - 2)*(y**2 - 3)"
   ]
  },
  {
   "cell_type": "code",
   "execution_count": 6,
   "metadata": {},
   "outputs": [
    {
     "name": "stdout",
     "output_type": "stream",
     "text": [
      "cero del eje x = 1.41421356237\n",
      "cero del eje y = 1.73205080757\n"
     ]
    }
   ],
   "source": [
    "ceros(g,1,1)"
   ]
  },
  {
   "cell_type": "code",
   "execution_count": null,
   "metadata": {},
   "outputs": [],
   "source": []
  }
 ],
 "metadata": {
  "kernelspec": {
   "display_name": "Python 2",
   "language": "python",
   "name": "python2"
  },
  "language_info": {
   "codemirror_mode": {
    "name": "ipython",
    "version": 2
   },
   "file_extension": ".py",
   "mimetype": "text/x-python",
   "name": "python",
   "nbconvert_exporter": "python",
   "pygments_lexer": "ipython2",
   "version": "2.7.14"
  }
 },
 "nbformat": 4,
 "nbformat_minor": 2
}
