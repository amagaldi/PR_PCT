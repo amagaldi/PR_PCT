{
 "cells": [
  {
   "cell_type": "markdown",
   "metadata": {},
   "source": [
    "# Tarea 3:\n",
    "Diana Islas Flores"
   ]
  },
  {
   "cell_type": "markdown",
   "metadata": {},
   "source": [
    "Problema 1: graficas de barra e histogramas"
   ]
  },
  {
   "cell_type": "markdown",
   "metadata": {},
   "source": [
    "Una grafica de barras en pandas es simplemente \"array.plot(kind='bar')\". La altura de las barras es el valor y y la posicion de esta es el valor x correspondiente. \n"
   ]
  },
  {
   "cell_type": "markdown",
   "metadata": {},
   "source": [
    "Un histograma da la distribucion de una lista/array. Es decir, divide el rango de la lista en 'bins' y cuenta cuantos valores de la lista caen dentro de cada bin. Para obtener un histograma en Pandas es simplemente array.hist()"
   ]
  },
  {
   "cell_type": "markdown",
   "metadata": {},
   "source": [
    "Para obtener los bins y el histograma, se utiliza la funcion de numpy histogram. Esta solo pide el array de datos y el numero de bins o el metodo para calcular este o lo puede hacer automatico. Matplotlib utiliza esta funcion para obtener la informacion necesaria para hacer el histograma. "
   ]
  },
  {
   "cell_type": "markdown",
   "metadata": {},
   "source": [
    "El siguiente ejemplo toma un vector de numeros aleatorios y calcula automaticamente los bins y el numero de datos en cada bin."
   ]
  },
  {
   "cell_type": "code",
   "execution_count": 1,
   "metadata": {},
   "outputs": [
    {
     "name": "stdout",
     "output_type": "stream",
     "text": [
      "el vector inicial es\n",
      "[26, 70, 34, 54, 75, 44, 13, 37, 42, 5, 27, 14, 90, 40, 71, 60, 52, 72, 36, 94, 59, 62, 53, 9, 67, 4, 1, 22, 18, 84, 89, 88, 24, 81, 23, 97, 73, 49, 82, 16, 31, 12, 86, 7, 96]\n",
      "los limites de los bins son:\n",
      "[  1.   10.6  20.2  29.8  39.4  49.   58.6  68.2  77.8  87.4  97. ]\n",
      "el histograma o numero de datos en cada bin es:\n",
      "[5 5 5 4 3 4 4 5 4 6]\n"
     ]
    }
   ],
   "source": [
    "import numpy as np\n",
    "import random\n",
    "a = random.sample(range(1, 100), 45)\n",
    "\n",
    "print 'el vector inicial es'\n",
    "print a\n",
    "\n",
    "hist, bin_edges = np.histogram(a)#histograma\n",
    "\n",
    "print 'los limites de los bins son:'\n",
    "print bin_edges\n",
    "print  'el histograma o numero de datos en cada bin es:'\n",
    "print hist"
   ]
  },
  {
   "cell_type": "markdown",
   "metadata": {},
   "source": [
    "Como se observa, el np.histogram da los limites de bins y los datos para el histograma. "
   ]
  },
  {
   "cell_type": "markdown",
   "metadata": {},
   "source": [
    "Si se quiere obtener un histograma 'normal', es decir, los datos del histograma suman a uno, se necesita poner el argumento de density = True (esto da la probability density function integrado sobre el rango de los bins)"
   ]
  },
  {
   "cell_type": "markdown",
   "metadata": {},
   "source": [
    "Sin embargo, esto no da que la suma de los datos del histograma sobre el rango iguala a 1, sino que la integral sobre el rango sume a 1. Estos dos son iguales si el tamaño del intervalo de los bins es 1."
   ]
  },
  {
   "cell_type": "code",
   "execution_count": 2,
   "metadata": {},
   "outputs": [
    {
     "name": "stdout",
     "output_type": "stream",
     "text": [
      "el vector inicial es\n",
      "[26, 70, 34, 54, 75, 44, 13, 37, 42, 5, 27, 14, 90, 40, 71, 60, 52, 72, 36, 94, 59, 62, 53, 9, 67, 4, 1, 22, 18, 84, 89, 88, 24, 81, 23, 97, 73, 49, 82, 16, 31, 12, 86, 7, 96]\n",
      "los limites de los bins son:\n",
      "[  1.   10.6  20.2  29.8  39.4  49.   58.6  68.2  77.8  87.4  97. ]\n",
      "el histograma o numero de datos en cada bin es:\n",
      "[ 0.01157407  0.01157407  0.01157407  0.00925926  0.00694444  0.00925926\n",
      "  0.00925926  0.01157407  0.00925926  0.01388889]\n",
      "suma de datos en cada bin =  0.104166666667 =/= 1\n",
      "suma de (datos en cada bin x el tamaño de intervalo de bins) =  1.0\n"
     ]
    }
   ],
   "source": [
    "print 'el vector inicial es'\n",
    "print a\n",
    "hist, bin_edges = np.histogram(a,density = True)\n",
    "print 'los limites de los bins son:'\n",
    "print bin_edges\n",
    "print  'el histograma o numero de datos en cada bin es:'\n",
    "print hist\n",
    "print 'suma de datos en cada bin = ',hist.sum(),'=/= 1'\n",
    "print 'suma de (datos en cada bin x el tamaño de intervalo de bins) = ',np.sum(hist * np.diff(bin_edges))"
   ]
  },
  {
   "cell_type": "markdown",
   "metadata": {},
   "source": [
    "Como se dijo anteriormente, matplotlib (plt.hist(a)) utiliza esta funcion para obtener los datos para graficar el histograma (lo que tambien hace pandas ya que usa matplotlib)"
   ]
  },
  {
   "cell_type": "markdown",
   "metadata": {},
   "source": [
    "En pandas, se puede utilizar .value_counts() o .value_counts(normalize = True) para contar contar el numero de valores en cada bin (normalizada da el histograma que suman a 1)."
   ]
  },
  {
   "cell_type": "code",
   "execution_count": 3,
   "metadata": {},
   "outputs": [
    {
     "data": {
      "text/plain": [
       "5    1077\n",
       "9    1073\n",
       "0    1039\n",
       "7     998\n",
       "4     993\n",
       "3     981\n",
       "8     979\n",
       "1     963\n",
       "6     961\n",
       "2     936\n",
       "dtype: int64"
      ]
     },
     "execution_count": 3,
     "metadata": {},
     "output_type": "execute_result"
    }
   ],
   "source": [
    "import pandas as pd\n",
    "data = np.random.choice(np.arange(10), size=10000)\n",
    "s = pd.Series(data)\n",
    "s.value_counts()"
   ]
  },
  {
   "cell_type": "code",
   "execution_count": 4,
   "metadata": {},
   "outputs": [
    {
     "data": {
      "text/plain": [
       "5    0.1077\n",
       "9    0.1073\n",
       "0    0.1039\n",
       "7    0.0998\n",
       "4    0.0993\n",
       "3    0.0981\n",
       "8    0.0979\n",
       "1    0.0963\n",
       "6    0.0961\n",
       "2    0.0936\n",
       "dtype: float64"
      ]
     },
     "execution_count": 4,
     "metadata": {},
     "output_type": "execute_result"
    }
   ],
   "source": [
    "s.value_counts(normalize = True)"
   ]
  },
  {
   "cell_type": "code",
   "execution_count": 5,
   "metadata": {},
   "outputs": [
    {
     "data": {
      "text/plain": [
       "1.0"
      ]
     },
     "execution_count": 5,
     "metadata": {},
     "output_type": "execute_result"
    }
   ],
   "source": [
    "s.value_counts(normalize = True).sum()"
   ]
  },
  {
   "cell_type": "markdown",
   "metadata": {},
   "source": [
    ".\n",
    "\n",
    "\n",
    "\n",
    "Ejercicios Pandas Notebook 11:"
   ]
  },
  {
   "cell_type": "code",
   "execution_count": 6,
   "metadata": {},
   "outputs": [],
   "source": [
    "import pandas as pd\n",
    "import numpy as np\n",
    "import matplotlib.pyplot as plt\n",
    "%matplotlib inline"
   ]
  },
  {
   "cell_type": "markdown",
   "metadata": {},
   "source": [
    "Ejercicio 1: SE NECESITA EL ARCHIVO 'Daily_clim_data_Auckland.csv'"
   ]
  },
  {
   "cell_type": "code",
   "execution_count": 7,
   "metadata": {},
   "outputs": [],
   "source": [
    "a = pd.read_csv('../data/Daily_clim_data_Auckland.csv')"
   ]
  },
  {
   "cell_type": "markdown",
   "metadata": {},
   "source": [
    "Para hacer el index datetime, se utiliza el comando 'date_range' desde el primer dia. Adicionalmente, se agrega una columna para el año y otra para el mes. "
   ]
  },
  {
   "cell_type": "code",
   "execution_count": 8,
   "metadata": {},
   "outputs": [],
   "source": [
    "a.columns = ['full_date', 'rain','tmax','tmin']\n",
    "a.index = pd.date_range(start='1972-01-01', periods=len(a))\n",
    "a['full_date'] = pd.to_datetime(a['full_date'])\n",
    "a['year'], a['month'] = a['full_date'].dt.year, a['full_date'].dt.month\n",
    "cols = a.columns.tolist()\n",
    "cols1 = cols[:1]+cols[-2:]+cols[1:4]\n",
    "cols1\n",
    "a = a[cols1]"
   ]
  },
  {
   "cell_type": "code",
   "execution_count": 9,
   "metadata": {},
   "outputs": [
    {
     "data": {
      "text/plain": [
       "DatetimeIndex(['1972-01-01', '1972-01-02', '1972-01-03', '1972-01-04',\n",
       "               '1972-01-05', '1972-01-06', '1972-01-07', '1972-01-08',\n",
       "               '1972-01-09', '1972-01-10',\n",
       "               ...\n",
       "               '2013-12-22', '2013-12-23', '2013-12-24', '2013-12-25',\n",
       "               '2013-12-26', '2013-12-27', '2013-12-28', '2013-12-29',\n",
       "               '2013-12-30', '2013-12-31'],\n",
       "              dtype='datetime64[ns]', length=15341, freq='D')"
      ]
     },
     "execution_count": 9,
     "metadata": {},
     "output_type": "execute_result"
    }
   ],
   "source": [
    "a.index"
   ]
  },
  {
   "cell_type": "markdown",
   "metadata": {},
   "source": [
    "Ejercicio 2:"
   ]
  },
  {
   "cell_type": "markdown",
   "metadata": {},
   "source": [
    "El comando 'loc' se utiliza para elegir cada variable."
   ]
  },
  {
   "cell_type": "code",
   "execution_count": 10,
   "metadata": {},
   "outputs": [],
   "source": [
    "rain_all = a.loc[:,'rain']\n",
    "tmax_all = a.loc[:,'tmax']\n",
    "tmin_all = a.loc[:,'tmin']"
   ]
  },
  {
   "cell_type": "markdown",
   "metadata": {},
   "source": [
    "El comando 'resample' se utiliza para obtener los promedios mensuales (de cada mes individual) (para la temperatura) y el total mensual (para la lluvia)"
   ]
  },
  {
   "cell_type": "code",
   "execution_count": 11,
   "metadata": {},
   "outputs": [],
   "source": [
    "tot_rain = rain_all.resample('M',convention = 'end').sum()\n",
    "avg_mxtmp = tmax_all.resample('M',convention = 'end').mean()\n",
    "avg_mntmp = tmin_all.resample('M',convention = 'end').mean()"
   ]
  },
  {
   "cell_type": "code",
   "execution_count": 12,
   "metadata": {},
   "outputs": [
    {
     "name": "stdout",
     "output_type": "stream",
     "text": [
      "1972-01-31    418.6\n",
      "1972-02-29     98.9\n",
      "1972-03-31    839.9\n",
      "1972-04-30    489.5\n",
      "1972-05-31    399.9\n",
      "1972-06-30    223.3\n",
      "1972-07-31    373.1\n",
      "1972-08-31    124.0\n",
      "1972-09-30    879.9\n",
      "1972-10-31    514.0\n",
      "1972-11-30    389.3\n",
      "1972-12-31    323.2\n",
      "1973-01-31    287.4\n",
      "1973-02-28    367.9\n",
      "1973-03-31    353.1\n",
      "1973-04-30    636.2\n",
      "1973-05-31    598.3\n",
      "1973-06-30    287.4\n",
      "1973-07-31     56.6\n",
      "1973-08-31    213.5\n",
      "1973-09-30    307.6\n",
      "1973-10-31    422.6\n",
      "1973-11-30    541.2\n",
      "1973-12-31    281.8\n",
      "1974-01-31    114.6\n",
      "1974-02-28    381.3\n",
      "1974-03-31    274.6\n",
      "1974-04-30    194.4\n",
      "1974-05-31    203.8\n",
      "1974-06-30    458.5\n",
      "              ...  \n",
      "2011-07-31    331.4\n",
      "2011-08-31    241.2\n",
      "2011-09-30    273.5\n",
      "2011-10-31    274.5\n",
      "2011-11-30    442.0\n",
      "2011-12-31    101.3\n",
      "2012-01-31    318.3\n",
      "2012-02-29    163.0\n",
      "2012-03-31    224.9\n",
      "2012-04-30    134.7\n",
      "2012-05-31    283.8\n",
      "2012-06-30    270.5\n",
      "2012-07-31    189.9\n",
      "2012-08-31    105.1\n",
      "2012-09-30    383.2\n",
      "2012-10-31    537.0\n",
      "2012-11-30    274.4\n",
      "2012-12-31    452.3\n",
      "2013-01-31    376.9\n",
      "2013-02-28    118.7\n",
      "2013-03-31    277.0\n",
      "2013-04-30    297.7\n",
      "2013-05-31    275.2\n",
      "2013-06-30    137.7\n",
      "2013-07-31    435.2\n",
      "2013-08-31    295.3\n",
      "2013-09-30    318.6\n",
      "2013-10-31    543.5\n",
      "2013-11-30    253.5\n",
      "2013-12-31    404.9\n",
      "Freq: M, Name: rain, Length: 504, dtype: float64\n"
     ]
    }
   ],
   "source": [
    "print tot_rain"
   ]
  },
  {
   "cell_type": "code",
   "execution_count": 13,
   "metadata": {},
   "outputs": [
    {
     "name": "stdout",
     "output_type": "stream",
     "text": [
      "1972-01-31    16.206452\n",
      "1972-02-29    18.406897\n",
      "1972-03-31    14.712903\n",
      "1972-04-30    12.350000\n",
      "1972-05-31     8.593548\n",
      "1972-06-30     5.646667\n",
      "1972-07-31     5.570968\n",
      "1972-08-31     6.674194\n",
      "1972-09-30     8.916667\n",
      "1972-10-31    10.506452\n",
      "1972-11-30    13.960000\n",
      "1972-12-31    14.358065\n",
      "1973-01-31    16.954839\n",
      "1973-02-28    18.142857\n",
      "1973-03-31    15.570968\n",
      "1973-04-30    11.710000\n",
      "1973-05-31     7.800000\n",
      "1973-06-30     5.456667\n",
      "1973-07-31     5.212903\n",
      "1973-08-31     6.532258\n",
      "1973-09-30    10.130000\n",
      "1973-10-31    11.445161\n",
      "1973-11-30    12.233333\n",
      "1973-12-31    17.845161\n",
      "1974-01-31    16.870968\n",
      "1974-02-28    18.017857\n",
      "1974-03-31    15.958065\n",
      "1974-04-30    13.166667\n",
      "1974-05-31    10.219355\n",
      "1974-06-30     6.183333\n",
      "                ...    \n",
      "2011-07-31     7.619355\n",
      "2011-08-31     7.777419\n",
      "2011-09-30     9.466667\n",
      "2011-10-31    12.606452\n",
      "2011-11-30    12.243333\n",
      "2011-12-31    18.738710\n",
      "2012-01-31    15.435484\n",
      "2012-02-29    17.300000\n",
      "2012-03-31    14.761290\n",
      "2012-04-30    14.613333\n",
      "2012-05-31    10.603226\n",
      "2012-06-30     8.166667\n",
      "2012-07-31     9.509677\n",
      "2012-08-31    11.029032\n",
      "2012-09-30    10.333333\n",
      "2012-10-31    10.900000\n",
      "2012-11-30    13.243333\n",
      "2012-12-31    15.725806\n",
      "2013-01-31    16.503226\n",
      "2013-02-28    18.278571\n",
      "2013-03-31    17.287097\n",
      "2013-04-30    14.220000\n",
      "2013-05-31    11.125806\n",
      "2013-06-30     9.516667\n",
      "2013-07-31     8.935484\n",
      "2013-08-31     9.938710\n",
      "2013-09-30    10.746667\n",
      "2013-10-31    10.838710\n",
      "2013-11-30    15.120000\n",
      "2013-12-31    15.496774\n",
      "Freq: M, Name: tmax, Length: 504, dtype: float64\n"
     ]
    }
   ],
   "source": [
    "print avg_mxtmp"
   ]
  },
  {
   "cell_type": "code",
   "execution_count": 14,
   "metadata": {},
   "outputs": [
    {
     "name": "stdout",
     "output_type": "stream",
     "text": [
      "1972-01-31     8.593548\n",
      "1972-02-29     9.775862\n",
      "1972-03-31     9.590323\n",
      "1972-04-30     7.326667\n",
      "1972-05-31     3.077419\n",
      "1972-06-30     0.590000\n",
      "1972-07-31     1.629032\n",
      "1972-08-31     0.316129\n",
      "1972-09-30     3.996667\n",
      "1972-10-31     4.900000\n",
      "1972-11-30     7.016667\n",
      "1972-12-31     6.670968\n",
      "1973-01-31     8.954839\n",
      "1973-02-28    10.310714\n",
      "1973-03-31     8.648387\n",
      "1973-04-30     6.023333\n",
      "1973-05-31     4.674194\n",
      "1973-06-30     2.306667\n",
      "1973-07-31     1.009677\n",
      "1973-08-31     1.361290\n",
      "1973-09-30     3.666667\n",
      "1973-10-31     5.193548\n",
      "1973-11-30     6.000000\n",
      "1973-12-31     9.096774\n",
      "1974-01-31     8.687097\n",
      "1974-02-28    11.939286\n",
      "1974-03-31     8.245161\n",
      "1974-04-30     7.413333\n",
      "1974-05-31     5.725806\n",
      "1974-06-30     1.576667\n",
      "                ...    \n",
      "2011-07-31     2.970968\n",
      "2011-08-31     3.180645\n",
      "2011-09-30     4.146667\n",
      "2011-10-31     5.764516\n",
      "2011-11-30     5.696667\n",
      "2011-12-31    10.232258\n",
      "2012-01-31     8.409677\n",
      "2012-02-29    10.727586\n",
      "2012-03-31     7.867742\n",
      "2012-04-30     8.880000\n",
      "2012-05-31     5.461290\n",
      "2012-06-30     3.130000\n",
      "2012-07-31     4.974194\n",
      "2012-08-31     5.306452\n",
      "2012-09-30     5.213333\n",
      "2012-10-31     4.332258\n",
      "2012-11-30     6.080000\n",
      "2012-12-31     8.490323\n",
      "2013-01-31     9.274194\n",
      "2013-02-28    10.810714\n",
      "2013-03-31    10.867742\n",
      "2013-04-30     8.233333\n",
      "2013-05-31     5.877419\n",
      "2013-06-30     4.610000\n",
      "2013-07-31     4.961290\n",
      "2013-08-31     5.358065\n",
      "2013-09-30     4.576667\n",
      "2013-10-31     5.400000\n",
      "2013-11-30     7.800000\n",
      "2013-12-31     8.629032\n",
      "Freq: M, Name: tmin, Length: 504, dtype: float64\n"
     ]
    }
   ],
   "source": [
    "print avg_mntmp"
   ]
  },
  {
   "cell_type": "markdown",
   "metadata": {},
   "source": [
    "Ejercicio 3:"
   ]
  },
  {
   "cell_type": "markdown",
   "metadata": {},
   "source": [
    "\n",
    "El comando 'query' se utilza para filtral los años entre 1981 y el 2000. El comando 'loc' se utiliza para elegir cada variable. El comando 'groupby' se utiliza para obtener el promedio de todos los años por mes  (climatologia)."
   ]
  },
  {
   "cell_type": "code",
   "execution_count": 15,
   "metadata": {},
   "outputs": [],
   "source": [
    "b = a.query('year >=1981 & year <= 2000')\n",
    "rainfall = b.loc[:,'rain']\n",
    "maxtemp = b.loc[:,'tmax']\n",
    "mintemp = b.loc[:,'tmin']\n",
    "\n",
    "crf = rainfall.groupby(rainfall.index.month).mean()\n",
    "cmxt = maxtemp.groupby(maxtemp.index.month).mean()\n",
    "cmnt = mintemp.groupby(mintemp.index.month).mean()"
   ]
  },
  {
   "cell_type": "markdown",
   "metadata": {},
   "source": [
    "Se grafica la climatologia como se observa en el cuaderno de pandas (11)."
   ]
  },
  {
   "cell_type": "code",
   "execution_count": 16,
   "metadata": {},
   "outputs": [
    {
     "data": {
      "image/png": "[encoded data removed]",
      "text/plain": [
       "<matplotlib.figure.Figure at 0x118c4bf10>"
      ]
     },
     "metadata": {},
     "output_type": "display_data"
    }
   ],
   "source": [
    "f, ax = plt.subplots()\n",
    "crf.plot(ax=ax, kind='bar', rot=0, width=0.9,title = 'Rainfall Climatology')\n",
    "ax.set_xticklabels(list('JFMAMJJASOND'));\n"
   ]
  },
  {
   "cell_type": "code",
   "execution_count": 17,
   "metadata": {},
   "outputs": [
    {
     "data": {
      "image/png": "[encoded data removed]",
      "text/plain": [
       "<matplotlib.figure.Figure at 0x118135410>"
      ]
     },
     "metadata": {},
     "output_type": "display_data"
    }
   ],
   "source": [
    "f, ax = plt.subplots()\n",
    "cmxt.plot(ax=ax, kind='bar', rot=0, width=0.9,title = 'Max Temp Climatology')\n",
    "ax.set_xticklabels(list('JFMAMJJASOND'));"
   ]
  },
  {
   "cell_type": "code",
   "execution_count": 18,
   "metadata": {},
   "outputs": [
    {
     "data": {
      "image/png": "[encoded data removed]",
      "text/plain": [
       "<matplotlib.figure.Figure at 0x118685110>"
      ]
     },
     "metadata": {},
     "output_type": "display_data"
    }
   ],
   "source": [
    "f, ax = plt.subplots()\n",
    "cmnt.plot(ax=ax, kind='bar', rot=0, width=0.9,title = 'Min Temp Climatology')\n",
    "ax.set_xticklabels(list('JFMAMJJASOND'));"
   ]
  },
  {
   "cell_type": "markdown",
   "metadata": {},
   "source": [
    "Ejecicio 4:"
   ]
  },
  {
   "cell_type": "markdown",
   "metadata": {},
   "source": [
    "Para obtener el WRT, se obtine el valor - promedio total y despues se utiliza 'groupby' para obtener las climatologias de estas. "
   ]
  },
  {
   "cell_type": "code",
   "execution_count": 19,
   "metadata": {},
   "outputs": [],
   "source": [
    "wrt_rain = rainfall - rainfall.mean()\n",
    "wrt_rain_clim = wrt_rain.groupby(wrt_rain.index.month).mean()\n",
    "\n",
    "wrt_tmax = maxtemp - maxtemp.mean()\n",
    "wrt_tmax_clim = wrt_tmax.groupby(wrt_tmax.index.month).mean()\n",
    "\n",
    "wrt_tmin = mintemp - mintemp.mean()\n",
    "wrt_tmin_clim = wrt_tmin.groupby(wrt_tmin.index.month).mean()"
   ]
  },
  {
   "cell_type": "code",
   "execution_count": 20,
   "metadata": {},
   "outputs": [
    {
     "name": "stdout",
     "output_type": "stream",
     "text": [
      "1     3.528635\n",
      "2    -0.419477\n",
      "3    -0.639430\n",
      "4    -0.247446\n",
      "5     1.218635\n",
      "6    -0.637779\n",
      "7    -2.108623\n",
      "8    -2.499430\n",
      "9    -1.456946\n",
      "10    2.639119\n",
      "11   -1.151113\n",
      "12    1.623957\n",
      "Name: rain, dtype: float64\n"
     ]
    }
   ],
   "source": [
    "print wrt_rain_clim"
   ]
  },
  {
   "cell_type": "code",
   "execution_count": 21,
   "metadata": {},
   "outputs": [
    {
     "name": "stdout",
     "output_type": "stream",
     "text": [
      "1     4.435208\n",
      "2     4.778607\n",
      "3     3.080047\n",
      "4     0.155993\n",
      "5    -2.303663\n",
      "6    -4.380840\n",
      "7    -4.912856\n",
      "8    -3.833501\n",
      "9    -1.649507\n",
      "10    0.089563\n",
      "11    1.805993\n",
      "12    3.027628\n",
      "Name: tmax, dtype: float64\n"
     ]
    }
   ],
   "source": [
    "print wrt_tmax_clim"
   ]
  },
  {
   "cell_type": "code",
   "execution_count": 22,
   "metadata": {},
   "outputs": [
    {
     "name": "stdout",
     "output_type": "stream",
     "text": [
      "1     3.305347\n",
      "2     3.591559\n",
      "3     2.419863\n",
      "4     0.808277\n",
      "5    -0.940137\n",
      "6    -2.617056\n",
      "7    -3.276911\n",
      "8    -3.043686\n",
      "9    -1.971890\n",
      "10   -0.657879\n",
      "11    0.573944\n",
      "12    2.023734\n",
      "Name: tmin, dtype: float64\n"
     ]
    }
   ],
   "source": [
    "print wrt_tmin_clim"
   ]
  },
  {
   "cell_type": "markdown",
   "metadata": {},
   "source": [
    "Ejercicio 5:"
   ]
  },
  {
   "cell_type": "markdown",
   "metadata": {},
   "source": [
    "Se grafica la serie de tiempo de la temperatura min y max con 'plot'"
   ]
  },
  {
   "cell_type": "code",
   "execution_count": 23,
   "metadata": {},
   "outputs": [
    {
     "data": {
      "text/plain": [
       "<matplotlib.axes._subplots.AxesSubplot at 0x11882c290>"
      ]
     },
     "execution_count": 23,
     "metadata": {},
     "output_type": "execute_result"
    },
    {
     "data": {
      "image/png": "[encoded data removed]",
      "text/plain": [
       "<matplotlib.figure.Figure at 0x118cbf890>"
      ]
     },
     "metadata": {},
     "output_type": "display_data"
    }
   ],
   "source": [
    "mintemp.plot(title = 'Min. Temp. time series 1981-2000')"
   ]
  },
  {
   "cell_type": "code",
   "execution_count": 24,
   "metadata": {},
   "outputs": [
    {
     "data": {
      "text/plain": [
       "<matplotlib.axes._subplots.AxesSubplot at 0x11c0f3790>"
      ]
     },
     "execution_count": 24,
     "metadata": {},
     "output_type": "execute_result"
    },
    {
     "data": {
      "image/png": "[encoded data removed]",
      "text/plain": [
       "<matplotlib.figure.Figure at 0x118108b10>"
      ]
     },
     "metadata": {},
     "output_type": "display_data"
    }
   ],
   "source": [
    "maxtemp.plot(title = 'Max. Temp. time series 1981-2000')"
   ]
  },
  {
   "cell_type": "markdown",
   "metadata": {},
   "source": [
    "Ejecicio 6 y 7:"
   ]
  },
  {
   "cell_type": "markdown",
   "metadata": {},
   "source": [
    "Para obtener la linea de regresion linea, se utiliza linregress de scipy.stats. Se hizo un array (x) correspondiente a cada valor del datetime de los datos. Esto es necesario debido al hecho de que es necesario utilizar datos en float con este comando y el index de los datos son strings. "
   ]
  },
  {
   "cell_type": "code",
   "execution_count": 25,
   "metadata": {},
   "outputs": [],
   "source": [
    "from scipy import stats\n",
    "import numpy as np"
   ]
  },
  {
   "cell_type": "code",
   "execution_count": 26,
   "metadata": {},
   "outputs": [
    {
     "name": "stdout",
     "output_type": "stream",
     "text": [
      "Linear Trend from Scipy for min temp:\n",
      "Slope =  0.0693916984161 ; Intercept =  -131.751220021 ; R-val =  0.110644025038\n",
      "Linear Trend from Scipy for max temp:\n",
      "Slope =  0.0941548813306 ; Intercept =  -174.858899572 ; R-val =  0.118491178102\n"
     ]
    }
   ],
   "source": [
    "x = np.linspace(1981.,2000.99726027,len(mintemp))\n",
    "y = mintemp\n",
    "slope1, intercept1, r_value1, p_value1, std_err1 = stats.linregress(x,y)\n",
    "print 'Linear Trend from Scipy for min temp:'\n",
    "print 'Slope = ',slope1,'; Intercept = ',intercept1,'; R-val = ',r_value1\n",
    "y = maxtemp\n",
    "slope2, intercept2, r_value2, p_value2, std_err2 = stats.linregress(x,y)\n",
    "print 'Linear Trend from Scipy for max temp:'\n",
    "print 'Slope = ',slope2,'; Intercept = ',intercept2,'; R-val = ',r_value2"
   ]
  },
  {
   "cell_type": "markdown",
   "metadata": {},
   "source": [
    "Se obtinen los datos de la linea de tendencia con las pendientes y las intecciones calculadas con linregress y se agregan a dataset para cada temperatura."
   ]
  },
  {
   "cell_type": "code",
   "execution_count": 27,
   "metadata": {},
   "outputs": [
    {
     "name": "stderr",
     "output_type": "stream",
     "text": [
      "/Users/dislas/anaconda2/lib/python2.7/site-packages/ipykernel_launcher.py:3: SettingWithCopyWarning: \n",
      "A value is trying to be set on a copy of a slice from a DataFrame.\n",
      "Try using .loc[row_indexer,col_indexer] = value instead\n",
      "\n",
      "See the caveats in the documentation: http://pandas.pydata.org/pandas-docs/stable/indexing.html#indexing-view-versus-copy\n",
      "  This is separate from the ipykernel package so we can avoid doing imports until\n",
      "/Users/dislas/anaconda2/lib/python2.7/site-packages/ipykernel_launcher.py:4: SettingWithCopyWarning: \n",
      "A value is trying to be set on a copy of a slice from a DataFrame.\n",
      "Try using .loc[row_indexer,col_indexer] = value instead\n",
      "\n",
      "See the caveats in the documentation: http://pandas.pydata.org/pandas-docs/stable/indexing.html#indexing-view-versus-copy\n",
      "  after removing the cwd from sys.path.\n"
     ]
    }
   ],
   "source": [
    "y1 = x*slope1 + intercept1\n",
    "y2 = x*slope2 + intercept2\n",
    "b['tmin_trnd'] = y1\n",
    "b['tmax_trnd'] = y2\n"
   ]
  },
  {
   "cell_type": "markdown",
   "metadata": {},
   "source": [
    "Se grafica utilizando 'plot'"
   ]
  },
  {
   "cell_type": "code",
   "execution_count": 28,
   "metadata": {},
   "outputs": [
    {
     "data": {
      "text/plain": [
       "<matplotlib.axes._subplots.AxesSubplot at 0x191dc54d90>"
      ]
     },
     "execution_count": 28,
     "metadata": {},
     "output_type": "execute_result"
    },
    {
     "data": {
      "image/png": "[encoded data removed]",
      "text/plain": [
       "<matplotlib.figure.Figure at 0x191dc54490>"
      ]
     },
     "metadata": {},
     "output_type": "display_data"
    }
   ],
   "source": [
    "f, ax = plt.subplots()\n",
    "maxtemp.plot(ax=ax,title = 'Max. Temp. time series with trend 1981-2000')\n",
    "b.loc[:,'tmax_trnd'].plot(ax=ax)"
   ]
  },
  {
   "cell_type": "code",
   "execution_count": 29,
   "metadata": {},
   "outputs": [
    {
     "data": {
      "text/plain": [
       "<matplotlib.axes._subplots.AxesSubplot at 0x1a1e76a090>"
      ]
     },
     "execution_count": 29,
     "metadata": {},
     "output_type": "execute_result"
    },
    {
     "data": {
      "image/png": "[encoded data removed]",
      "text/plain": [
       "<matplotlib.figure.Figure at 0x1a1e69c7d0>"
      ]
     },
     "metadata": {},
     "output_type": "display_data"
    }
   ],
   "source": [
    "f, ax = plt.subplots()\n",
    "mintemp.plot(ax=ax,title = 'Min. Temp. time series with trend 1981-2000')\n",
    "b.loc[:,'tmin_trnd'].plot(ax=ax)"
   ]
  }
 ],
 "metadata": {
  "kernelspec": {
   "display_name": "Python 2",
   "language": "python",
   "name": "python2"
  },
  "language_info": {
   "codemirror_mode": {
    "name": "ipython",
    "version": 2
   },
   "file_extension": ".py",
   "mimetype": "text/x-python",
   "name": "python",
   "nbconvert_exporter": "python",
   "pygments_lexer": "ipython2",
   "version": "2.7.14"
  }
 },
 "nbformat": 4,
 "nbformat_minor": 2
}
