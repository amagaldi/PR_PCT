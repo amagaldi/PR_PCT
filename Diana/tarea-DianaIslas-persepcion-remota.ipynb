{
 "cells": [
  {
   "cell_type": "markdown",
   "metadata": {},
   "source": [
    "# Tarea de persepcion remota:\n",
    "Diana Islas Flores"
   ]
  },
  {
   "cell_type": "markdown",
   "metadata": {},
   "source": [
    "Parte 1 del septiembre 16, 2018:"
   ]
  },
  {
   "cell_type": "markdown",
   "metadata": {},
   "source": [
    "Problema 1: 'If not ...' statements (python 2.7)\n",
    "Que hace el 'not'?"
   ]
  },
  {
   "cell_type": "code",
   "execution_count": 1,
   "metadata": {},
   "outputs": [],
   "source": [
    "a = 10\n",
    "b = 3"
   ]
  },
  {
   "cell_type": "markdown",
   "metadata": {},
   "source": [
    "El 'not' busca is algo es falso:"
   ]
  },
  {
   "cell_type": "code",
   "execution_count": 2,
   "metadata": {},
   "outputs": [
    {
     "name": "stdout",
     "output_type": "stream",
     "text": [
      "algo es verdadero: not(algo) es False\n",
      "algo es falso: not(algo) es True\n"
     ]
    }
   ],
   "source": [
    "algo = True\n",
    "print 'algo es verdadero: not(algo) es',not algo\n",
    "\n",
    "algo = False\n",
    "print 'algo es falso: not(algo) es', not algo"
   ]
  },
  {
   "cell_type": "markdown",
   "metadata": {},
   "source": [
    "el 'not' despues de if busca si el statement logico es falso.\n",
    "Si es falso, python lo toma como 'verdadero' y hace lo que marca dentro del if [si algo es falso, not(algo) es verdadero]."
   ]
  },
  {
   "cell_type": "code",
   "execution_count": 3,
   "metadata": {},
   "outputs": [
    {
     "name": "stdout",
     "output_type": "stream",
     "text": [
      "a mayor que 5\n",
      "statement es verdadero\n"
     ]
    }
   ],
   "source": [
    "if not a < 5:\n",
    "    print 'a mayor que 5'\n",
    "    print 'statement es verdadero'"
   ]
  },
  {
   "cell_type": "code",
   "execution_count": 4,
   "metadata": {},
   "outputs": [
    {
     "name": "stdout",
     "output_type": "stream",
     "text": [
      "esto significa a mayor que 5 o b mayor que 6?\n",
      "se necesita mas claridad\n"
     ]
    }
   ],
   "source": [
    "if not a < 5 or b < 6:\n",
    "    print 'esto significa a mayor que 5 o b mayor que 6?'\n",
    "    print 'se necesita mas claridad'"
   ]
  },
  {
   "cell_type": "markdown",
   "metadata": {},
   "source": [
    "En la linea de codigo anterior, pude ser que a es mayor que 5 o b es mayor que 6 pero python no esta haciendo lo que se piensa."
   ]
  },
  {
   "cell_type": "code",
   "execution_count": 5,
   "metadata": {},
   "outputs": [],
   "source": [
    "if not a < 5 and b > 3:\n",
    "    print 'a es mayor a 5 y b es meno o igual a 3'"
   ]
  },
  {
   "cell_type": "markdown",
   "metadata": {},
   "source": [
    "Como se observa, si el 'not' se aplica a ambos, la linea de codigo anterior es verdadera y escribe lo indicado. \n",
    "PERO esto no ocurrio, y por lo tanto el 'not' no es parte de todo el statament if, solo es parte del primer statement logico ('not a < 5'). Lo que significa que si cambianos el if para decir que 'not a<5 and b< 4', tiene que ser verdadero:"
   ]
  },
  {
   "cell_type": "code",
   "execution_count": 6,
   "metadata": {},
   "outputs": [
    {
     "name": "stdout",
     "output_type": "stream",
     "text": [
      "a es mayor a 5 y b es meno a 4\n"
     ]
    }
   ],
   "source": [
    "if not a < 5 and b < 4:\n",
    "    print 'a es mayor a 5 y b es meno a 4'"
   ]
  },
  {
   "cell_type": "markdown",
   "metadata": {},
   "source": [
    "'not' solo significa si el statement siguiente es falso y no es parte de 'if' (no hay argumento 'if not', solo 'if' y 'not' separados). Otra manera de escribir la linea de codigo anterio es la siguiente y da el mismo resultado"
   ]
  },
  {
   "cell_type": "code",
   "execution_count": 7,
   "metadata": {},
   "outputs": [
    {
     "name": "stdout",
     "output_type": "stream",
     "text": [
      "a es mayor a 5 y b es meno a 4\n"
     ]
    }
   ],
   "source": [
    "if b < 4 and not a < 5:\n",
    "    print 'a es mayor a 5 y b es meno a 4'"
   ]
  },
  {
   "cell_type": "markdown",
   "metadata": {},
   "source": [
    "si se quiere aplicar para para todo el if statement, se tiene que poner todo el statment logico en parentesis (...)."
   ]
  },
  {
   "cell_type": "code",
   "execution_count": 8,
   "metadata": {},
   "outputs": [
    {
     "name": "stdout",
     "output_type": "stream",
     "text": [
      "a es mayor a 5 y b es meno o igual a 3\n"
     ]
    }
   ],
   "source": [
    "if not (a < 5 and b > 3):\n",
    "    print 'a es mayor a 5 y b es meno o igual a 3'"
   ]
  },
  {
   "cell_type": "markdown",
   "metadata": {},
   "source": [
    "Tambien se puede utilizar un doble 'not' para ver si algo es verdadero [not(not(algo))]. \n",
    "Si algo es falso, not(algo) es verdadero, y not(not(algo)) es falso o si algo es verdadero, not(algo) es falso y not(not(algo)) es verdadero':"
   ]
  },
  {
   "cell_type": "code",
   "execution_count": 9,
   "metadata": {},
   "outputs": [
    {
     "name": "stdout",
     "output_type": "stream",
     "text": [
      "algo es verdadero: not(not(algo)) es True\n",
      "algo es falso: not(not(algo)) es False\n"
     ]
    }
   ],
   "source": [
    "algo = True\n",
    "print 'algo es verdadero: not(not(algo)) es',not not algo # se puede escribir con o sin parenetesis\n",
    "\n",
    "algo = False\n",
    "print 'algo es falso: not(not(algo)) es', not not algo"
   ]
  },
  {
   "cell_type": "code",
   "execution_count": 10,
   "metadata": {},
   "outputs": [
    {
     "name": "stdout",
     "output_type": "stream",
     "text": [
      "a mayor que 5\n",
      "statment es verdadero\n"
     ]
    }
   ],
   "source": [
    "if not not a > 5:\n",
    "    print 'a mayor que 5'\n",
    "    print 'statment es verdadero'\n"
   ]
  },
  {
   "cell_type": "markdown",
   "metadata": {},
   "source": [
    "."
   ]
  },
  {
   "cell_type": "markdown",
   "metadata": {},
   "source": [
    "Problema 2: Hacer funcion que sume los numeros naturales de 1 a n:"
   ]
  },
  {
   "cell_type": "markdown",
   "metadata": {},
   "source": [
    "para calcular la suma de los numeros naturales, gauss deducio la siguente sequencia geometrica:\n",
    "\n"
   ]
  },
  {
   "cell_type": "markdown",
   "metadata": {},
   "source": [
    "$\\sum_{i = 1}^{n} i = \\frac{(n+1)n}{2}$"
   ]
  },
  {
   "cell_type": "markdown",
   "metadata": {},
   "source": [
    "Entonces se define la funcion suma_naturales:"
   ]
  },
  {
   "cell_type": "code",
   "execution_count": 11,
   "metadata": {},
   "outputs": [],
   "source": [
    "def suma_naturales(n):\n",
    "    return ((n+1)*n)/2\n"
   ]
  },
  {
   "cell_type": "markdown",
   "metadata": {},
   "source": [
    "TEST: para n = 100, $\\frac{(100-1)100}{2}=(101)50=5050$"
   ]
  },
  {
   "cell_type": "markdown",
   "metadata": {},
   "source": [
    "y la funcion da"
   ]
  },
  {
   "cell_type": "code",
   "execution_count": 12,
   "metadata": {},
   "outputs": [
    {
     "name": "stdout",
     "output_type": "stream",
     "text": [
      "5050\n"
     ]
    }
   ],
   "source": [
    "n = 100\n",
    "print suma_naturales(100)"
   ]
  },
  {
   "cell_type": "markdown",
   "metadata": {},
   "source": [
    "'yay!'"
   ]
  },
  {
   "cell_type": "markdown",
   "metadata": {},
   "source": [
    "."
   ]
  },
  {
   "cell_type": "markdown",
   "metadata": {},
   "source": [
    "Problema 3: Hacer funcion para calcular la raiz"
   ]
  },
  {
   "cell_type": "markdown",
   "metadata": {},
   "source": [
    "El algoritmos Bakhshali es"
   ]
  },
  {
   "cell_type": "markdown",
   "metadata": {},
   "source": [
    "$x_{n+1}=b_n-\\frac{a_n^2}{2b_n}$"
   ]
  },
  {
   "cell_type": "markdown",
   "metadata": {},
   "source": [
    "donde  $ \\ b_n=x_n+a_n \\ $ y $ \\ a_n = \\frac{S-x_n^2}{2x_n}$"
   ]
  },
  {
   "cell_type": "markdown",
   "metadata": {},
   "source": [
    "Primero definimos la funcion"
   ]
  },
  {
   "cell_type": "code",
   "execution_count": 13,
   "metadata": {},
   "outputs": [],
   "source": [
    "def raiz(S,x0,epsilon):\n",
    "    xn = float(x0)\n",
    "    while abs(xn*xn - S) > epsilon:\n",
    "        an = (S-xn**2)/(2*xn)\n",
    "        bn = an + xn\n",
    "        xn = bn - (an**2)/(2*bn)\n",
    "    return xn\n",
    "    "
   ]
  },
  {
   "cell_type": "markdown",
   "metadata": {},
   "source": [
    "Prueba:"
   ]
  },
  {
   "cell_type": "code",
   "execution_count": 14,
   "metadata": {},
   "outputs": [
    {
     "name": "stdout",
     "output_type": "stream",
     "text": [
      "la raiz de 2 es  1.414\n"
     ]
    }
   ],
   "source": [
    "S = 2\n",
    "x0 = 1\n",
    "epsilon = 10**(-9)\n",
    "rS = raiz(S,x0,epsilon)\n",
    "print 'la raiz de {} es {:6.3f}'.format(S, rS)"
   ]
  },
  {
   "cell_type": "markdown",
   "metadata": {},
   "source": [
    "Prueba 2:"
   ]
  },
  {
   "cell_type": "code",
   "execution_count": 15,
   "metadata": {},
   "outputs": [
    {
     "name": "stdout",
     "output_type": "stream",
     "text": [
      "la raiz de 25 es  5.000\n"
     ]
    }
   ],
   "source": [
    "S = 25\n",
    "x0 = 12\n",
    "epsilon = 10**(-9)\n",
    "rS = raiz(S,x0,epsilon)\n",
    "print 'la raiz de {} es {:6.3f}'.format(S, rS)"
   ]
  },
  {
   "cell_type": "markdown",
   "metadata": {},
   "source": [
    "Como libreria\n"
   ]
  },
  {
   "cell_type": "code",
   "execution_count": null,
   "metadata": {},
   "outputs": [],
   "source": [
    "%%file bk-raiz.py  \n",
    "# escribe a un archivo\n",
    "def raiz(S,x0,epsilon):\n",
    "    xn = float(x0)\n",
    "    while abs(xn*xn - S) > epsilon:\n",
    "        an = (S-xn**2)/(2*xn)\n",
    "        bn = an + xn\n",
    "        xn = bn - (an**2)/(2*bn)\n",
    "    return xn"
   ]
  },
  {
   "cell_type": "code",
   "execution_count": null,
   "metadata": {},
   "outputs": [],
   "source": [
    "from bk-raiz import raiz\n",
    "S = 4\n",
    "x0 = 3\n",
    "epsilon = 10**(-3)\n",
    "rS = raiz(S,x0,epsilon)\n",
    "print 'la raiz de {} es {:6.3f}'.format(S, rS)"
   ]
  }
 ],
 "metadata": {
  "kernelspec": {
   "display_name": "Python 2",
   "language": "python",
   "name": "python2"
  },
  "language_info": {
   "codemirror_mode": {
    "name": "ipython",
    "version": 2
   },
   "file_extension": ".py",
   "mimetype": "text/x-python",
   "name": "python",
   "nbconvert_exporter": "python",
   "pygments_lexer": "ipython2",
   "version": "2.7.14"
  }
 },
 "nbformat": 4,
 "nbformat_minor": 2
}
