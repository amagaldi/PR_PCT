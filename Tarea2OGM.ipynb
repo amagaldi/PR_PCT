{
 "cells": [
  {
   "cell_type": "markdown",
   "metadata": {},
   "source": [
    "## Escribir un código que extraiga los elementos de la diagonal de una matriz cuadrada\n"
   ]
  },
  {
   "cell_type": "code",
   "execution_count": 156,
   "metadata": {},
   "outputs": [
    {
     "name": "stdout",
     "output_type": "stream",
     "text": [
      "[[ 7  0  0  0  0  0  0  0  0  0]\n",
      " [ 0  8  0  0  0  0  0  0  0  0]\n",
      " [ 0  0  9  0  0  0  0  0  0  0]\n",
      " [ 0  0  0 10  0  0  0  0  0  0]\n",
      " [ 0  0  0  0 11  0  0  0  0  0]\n",
      " [ 0  0  0  0  0 12  0  0  0  0]\n",
      " [ 0  0  0  0  0  0 13  0  0  0]\n",
      " [ 0  0  0  0  0  0  0 14  0  0]\n",
      " [ 0  0  0  0  0  0  0  0 15  0]\n",
      " [ 0  0  0  0  0  0  0  0  0 16]]\n"
     ]
    },
    {
     "data": {
      "text/plain": [
       "[7, 8, 9, 10, 11, 12, 13, 14, 15, 16]"
      ]
     },
     "execution_count": 156,
     "metadata": {},
     "output_type": "execute_result"
    }
   ],
   "source": [
    "import numpy as np\n",
    "\n",
    "def diag (Matrix):\n",
    "    diag =[]\n",
    "    row_size = len(Matrix)\n",
    "    for i in range(0,row_size):\n",
    "        diag.append(Matrix[i][i])\n",
    "    return diag\n",
    "\n",
    "B= np.diag(range(7,17))\n",
    "print B\n",
    "A = diag(B)\n",
    "A"
   ]
  },
  {
   "cell_type": "markdown",
   "metadata": {},
   "source": [
    "## Escribir una función que encuentre los ceros de una función utilizando el método de Newton-Krylov"
   ]
  },
  {
   "cell_type": "markdown",
   "metadata": {},
   "source": [
    "El problema que teníamos en clase es que estabamos utilizando mal la funcion, utilizando la línea :\n",
    "\n",
    " optimize.newton_krylov(g(4), np.r_[3., 7.])\n",
    " \n",
    " El primer argumento de esta función debe ser la función a la cual se le quieren encontrar las raíces, no debe estar evaluada (pues es lo que el método hará), el segundo argumento debe de ser un array que representa la primera aproximación de la solución. Por tanto, al corregirlo se obtienen los ceros de la función :"
   ]
  },
  {
   "cell_type": "code",
   "execution_count": 157,
   "metadata": {},
   "outputs": [
    {
     "data": {
      "text/plain": [
       "array([1.41421356, 1.41421356])"
      ]
     },
     "execution_count": 157,
     "metadata": {},
     "output_type": "execute_result"
    }
   ],
   "source": [
    "def g(x):\n",
    "    return (x**2 - 2)*(5**2 - 3)\n",
    "optimize.newton_krylov(g, np.r_[1., 7.])"
   ]
  },
  {
   "cell_type": "markdown",
   "metadata": {},
   "source": [
    "Utilizando el resultado anterior si evaluamos la función \"g\" en este valor obtenemosun valor muy cercano a un cero (computacional), como se muestra a continuación:"
   ]
  },
  {
   "cell_type": "code",
   "execution_count": 158,
   "metadata": {},
   "outputs": [
    {
     "name": "stdout",
     "output_type": "stream",
     "text": [
      "-12.32\n",
      "-0.2618\n",
      "-1.4766677614e-07\n"
     ]
    }
   ],
   "source": [
    "print g(1.2)\n",
    "print g(1.41)\n",
    "print g(1.41421356)"
   ]
  },
  {
   "cell_type": "code",
   "execution_count": null,
   "metadata": {},
   "outputs": [],
   "source": []
  }
 ],
 "metadata": {
  "kernelspec": {
   "display_name": "Python 2",
   "language": "python",
   "name": "python2"
  },
  "language_info": {
   "codemirror_mode": {
    "name": "ipython",
    "version": 2
   },
   "file_extension": ".py",
   "mimetype": "text/x-python",
   "name": "python",
   "nbconvert_exporter": "python",
   "pygments_lexer": "ipython2",
   "version": "2.7.15"
  }
 },
 "nbformat": 4,
 "nbformat_minor": 2
}
