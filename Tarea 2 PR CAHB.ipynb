{
 "cells": [
  {
   "cell_type": "markdown",
   "metadata": {},
   "source": [
    "# Tarea 2\n",
    "## Carlos Herrera\n",
    "### 28 sept 2018"
   ]
  },
  {
   "cell_type": "markdown",
   "metadata": {},
   "source": [
    "## Diagonales de una matriz"
   ]
  },
  {
   "cell_type": "code",
   "execution_count": 2,
   "metadata": {},
   "outputs": [],
   "source": [
    "import math\n",
    "import numpy as np"
   ]
  },
  {
   "cell_type": "code",
   "execution_count": 31,
   "metadata": {},
   "outputs": [
    {
     "data": {
      "text/plain": [
       "array([[11, 12, 13, 14],\n",
       "       [21, 22, 23, 24],\n",
       "       [31, 32, 33, 34],\n",
       "       [41, 42, 43, 44]])"
      ]
     },
     "execution_count": 31,
     "metadata": {},
     "output_type": "execute_result"
    }
   ],
   "source": [
    "prueba = np.array([[11,12,13,14],\n",
    "                   [21,22,23,24],\n",
    "                   [31,32,33,34],\n",
    "                   [41,42,43,44]])\n",
    "prueba #Hago una matriz que contiene sus \"indices\""
   ]
  },
  {
   "cell_type": "code",
   "execution_count": 43,
   "metadata": {},
   "outputs": [
    {
     "data": {
      "text/plain": [
       "4"
      ]
     },
     "execution_count": 43,
     "metadata": {},
     "output_type": "execute_result"
    }
   ],
   "source": [
    "len(prueba)"
   ]
  },
  {
   "cell_type": "code",
   "execution_count": 33,
   "metadata": {},
   "outputs": [
    {
     "data": {
      "text/plain": [
       "16"
      ]
     },
     "execution_count": 33,
     "metadata": {},
     "output_type": "execute_result"
    }
   ],
   "source": [
    "np.size(prueba)"
   ]
  },
  {
   "cell_type": "code",
   "execution_count": 65,
   "metadata": {},
   "outputs": [
    {
     "data": {
      "text/plain": [
       "(4, 4)"
      ]
     },
     "execution_count": 65,
     "metadata": {},
     "output_type": "execute_result"
    }
   ],
   "source": [
    "prueba.shape #DImensiones nxn"
   ]
  },
  {
   "cell_type": "code",
   "execution_count": 39,
   "metadata": {},
   "outputs": [
    {
     "data": {
      "text/plain": [
       "11"
      ]
     },
     "execution_count": 39,
     "metadata": {},
     "output_type": "execute_result"
    }
   ],
   "source": [
    "prueba[0,0]"
   ]
  },
  {
   "cell_type": "code",
   "execution_count": 50,
   "metadata": {},
   "outputs": [
    {
     "data": {
      "text/plain": [
       "[11, 22, 33, 44]"
      ]
     },
     "execution_count": 50,
     "metadata": {},
     "output_type": "execute_result"
    }
   ],
   "source": [
    "diag = [] #Creo lista vacía donde iré pegando las diagonales\n",
    "#Funciona únicamente para matrices cuadradas\n",
    "for ii in range(len(prueba)):\n",
    "    diag.append(prueba[ii,ii])\n",
    "\n",
    "diag\n",
    "    "
   ]
  },
  {
   "cell_type": "code",
   "execution_count": 22,
   "metadata": {},
   "outputs": [
    {
     "data": {
      "text/plain": [
       "array([[0.85908424, 0.27742185, 0.78824517, 0.7575111 ],\n",
       "       [0.1512052 , 0.59410972, 0.96099045, 0.73280074],\n",
       "       [0.62543627, 0.70401837, 0.73314335, 0.13979762],\n",
       "       [0.32096353, 0.81809912, 0.04246517, 0.74179561]])"
      ]
     },
     "execution_count": 22,
     "metadata": {},
     "output_type": "execute_result"
    }
   ],
   "source": [
    "matriz4 = np.random.rand(4,4) # Matriz aleatoria de 4x4\n",
    "matriz4"
   ]
  },
  {
   "cell_type": "code",
   "execution_count": 52,
   "metadata": {},
   "outputs": [
    {
     "data": {
      "text/plain": [
       "4"
      ]
     },
     "execution_count": 52,
     "metadata": {},
     "output_type": "execute_result"
    }
   ],
   "source": [
    "np.size(matriz4 ,0) \n",
    "np.size(matriz4, 1) #(matriz, 0=  filas/ 1 = columnas)"
   ]
  },
  {
   "cell_type": "code",
   "execution_count": 64,
   "metadata": {},
   "outputs": [
    {
     "name": "stdout",
     "output_type": "stream",
     "text": [
      "La diagonal es:\n"
     ]
    },
    {
     "data": {
      "text/plain": [
       "[0.7632523796800424,\n",
       " 0.8760549713240349,\n",
       " 0.4893786753974947,\n",
       " 0.9141251240547872,\n",
       " 0.5254764411108441,\n",
       " 0.3647688268455672,\n",
       " 0.058023734967584506,\n",
       " 0.11961011017989986,\n",
       " 0.3857443334843068,\n",
       " 0.7047572423120441]"
      ]
     },
     "execution_count": 64,
     "metadata": {},
     "output_type": "execute_result"
    }
   ],
   "source": [
    "matriz = np.random.rand(10,10) ## Cree una matriz de nxn\n",
    "diag = [] #Creo lista vacía donde iré pegando las diagonales\n",
    "#Funciona únicamente para matrices cuadradas\n",
    "for ii in range(len(matriz)):\n",
    "    diag.append(matriz[ii,ii])\n",
    "\n",
    "print(\"La diagonal es:\")\n",
    "diag"
   ]
  },
  {
   "cell_type": "code",
   "execution_count": 56,
   "metadata": {},
   "outputs": [
    {
     "data": {
      "text/plain": [
       "array([[0.39539774, 0.1341037 , 0.63428161, 0.56983009, 0.9826627 ,\n",
       "        0.77670679, 0.92660864, 0.42288368, 0.28012869, 0.91301753],\n",
       "       [0.81878965, 0.69822308, 0.71385806, 0.11853511, 0.46264372,\n",
       "        0.69057287, 0.49763654, 0.84734714, 0.24431006, 0.54518701],\n",
       "       [0.62349272, 0.69787623, 0.29219055, 0.23658377, 0.9922248 ,\n",
       "        0.22640635, 0.15019207, 0.86595964, 0.86554549, 0.27430846],\n",
       "       [0.25434279, 0.63757324, 0.0692318 , 0.59378223, 0.38722954,\n",
       "        0.35283337, 0.60103762, 0.94719866, 0.98336583, 0.09098851],\n",
       "       [0.44603203, 0.34386294, 0.98516028, 0.75004356, 0.62623582,\n",
       "        0.036697  , 0.26775888, 0.50768129, 0.24651464, 0.32760643],\n",
       "       [0.88447138, 0.04440073, 0.73233559, 0.58408677, 0.39700673,\n",
       "        0.1065942 , 0.17170843, 0.54672627, 0.20145322, 0.36598013],\n",
       "       [0.66168679, 0.37053315, 0.37343855, 0.94985573, 0.1180057 ,\n",
       "        0.86967759, 0.64761598, 0.49674214, 0.47277241, 0.90666051],\n",
       "       [0.57075029, 0.4768648 , 0.77539673, 0.30985979, 0.8395522 ,\n",
       "        0.37490638, 0.10955448, 0.93562712, 0.10832538, 0.9927323 ],\n",
       "       [0.39882405, 0.66742363, 0.04613648, 0.40855405, 0.50731493,\n",
       "        0.17875933, 0.32528223, 0.26784024, 0.31448356, 0.36094797],\n",
       "       [0.89804255, 0.38341548, 0.17864111, 0.77337475, 0.1614118 ,\n",
       "        0.73972165, 0.26160753, 0.02818736, 0.98334588, 0.87168914]])"
      ]
     },
     "execution_count": 56,
     "metadata": {},
     "output_type": "execute_result"
    }
   ],
   "source": [
    "matriz\n"
   ]
  },
  {
   "cell_type": "markdown",
   "metadata": {},
   "source": [
    "## Método de Newton - Krylov"
   ]
  },
  {
   "cell_type": "code",
   "execution_count": 71,
   "metadata": {},
   "outputs": [],
   "source": [
    "import scipy"
   ]
  },
  {
   "cell_type": "code",
   "execution_count": 72,
   "metadata": {},
   "outputs": [],
   "source": [
    "from scipy import linalg"
   ]
  },
  {
   "cell_type": "code",
   "execution_count": 74,
   "metadata": {},
   "outputs": [],
   "source": [
    "from scipy import optimize"
   ]
  },
  {
   "cell_type": "code",
   "execution_count": 67,
   "metadata": {},
   "outputs": [],
   "source": [
    "def g(x, y):\n",
    "    return (x**2 - 2)*(y**2 - 3)"
   ]
  },
  {
   "cell_type": "code",
   "execution_count": null,
   "metadata": {},
   "outputs": [],
   "source": []
  },
  {
   "cell_type": "code",
   "execution_count": 70,
   "metadata": {},
   "outputs": [
    {
     "data": {
      "text/plain": [
       "array([3., 7.])"
      ]
     },
     "execution_count": 70,
     "metadata": {},
     "output_type": "execute_result"
    }
   ],
   "source": [
    "np.r_[3.,7.]"
   ]
  },
  {
   "cell_type": "code",
   "execution_count": 76,
   "metadata": {},
   "outputs": [],
   "source": [
    "optimize.newton_krylov?"
   ]
  },
  {
   "cell_type": "code",
   "execution_count": null,
   "metadata": {},
   "outputs": [],
   "source": []
  }
 ],
 "metadata": {
  "kernelspec": {
   "display_name": "Python 3",
   "language": "python",
   "name": "python3"
  },
  "language_info": {
   "codemirror_mode": {
    "name": "ipython",
    "version": 3
   },
   "file_extension": ".py",
   "mimetype": "text/x-python",
   "name": "python",
   "nbconvert_exporter": "python",
   "pygments_lexer": "ipython3",
   "version": "3.6.5"
  }
 },
 "nbformat": 4,
 "nbformat_minor": 2
}
