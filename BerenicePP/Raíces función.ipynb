{
 "cells": [
  {
   "cell_type": "code",
   "execution_count": 1,
   "metadata": {},
   "outputs": [
    {
     "name": "stdout",
     "output_type": "stream",
     "text": [
      "formula=5.29150262213\n",
      "x1=-0.177124344468\n",
      "x2=-2.82287565553\n"
     ]
    }
   ],
   "source": [
    "import math\n",
    "\n",
    "def formulag(a,b,c):\n",
    "      \n",
    "   formula = b*b-(4*a*c)   \n",
    "        \n",
    "   if(formula < 0): \n",
    "       \n",
    "       print (\"La ecuación no tiene soluciones reales\")\n",
    "                      \n",
    "   else:\n",
    "           \n",
    "       if (formula == 0): \n",
    "               \n",
    "           x1=-b/2*a\n",
    "           x2=-b/2*a\n",
    "          \n",
    "           print(\"x1=\"+str(x1)+\"\\nx2=\"+str(x2))\n",
    "               \n",
    "       if (formula > 0): \n",
    "               \n",
    "           x1=((-b)+math.sqrt(formula)) / (2*a)\n",
    "           x2=((-b)-math.sqrt(formula)) /(2*a)\n",
    "           \n",
    "           print(\"formula=\"+str(math.sqrt(formula))+\"\\nx1=\"+str(x1)+\"\\nx2=\"+str(x2))\n",
    "   \n",
    "   return x1\n",
    "        \n",
    "res = formulag(2,6,1)"
   ]
  },
  {
   "cell_type": "code",
   "execution_count": null,
   "metadata": {},
   "outputs": [],
   "source": []
  }
 ],
 "metadata": {
  "kernelspec": {
   "display_name": "Python 2",
   "language": "python",
   "name": "python2"
  },
  "language_info": {
   "codemirror_mode": {
    "name": "ipython",
    "version": 2
   },
   "file_extension": ".py",
   "mimetype": "text/x-python",
   "name": "python",
   "nbconvert_exporter": "python",
   "pygments_lexer": "ipython2",
   "version": "2.7.15"
  }
 },
 "nbformat": 4,
 "nbformat_minor": 2
}
