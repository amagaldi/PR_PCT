{
 "cells": [
  {
   "cell_type": "code",
   "execution_count": 24,
   "metadata": {},
   "outputs": [
    {
     "name": "stdout",
     "output_type": "stream",
     "text": [
      "El número es mayor a 5\n"
     ]
    }
   ],
   "source": [
    "# If permite que una instrucción se lleve a cabo si se cumple una condición, es decir, evalúa una operación y ejecuta \n",
    "#siempre y cuando el resultado sea verdadero.\n",
    "\n",
    "    # Si el numero es mayor 'a' 5, imprime 'El número es mayor a 5'.\n",
    "numero = 7\n",
    "if numero > 5:\n",
    "    print ('El número es mayor a 5')"
   ]
  },
  {
   "cell_type": "code",
   "execution_count": 27,
   "metadata": {},
   "outputs": [
    {
     "name": "stdout",
     "output_type": "stream",
     "text": [
      "a no es menor que 10\n"
     ]
    }
   ],
   "source": [
    "# En el caso del if not, se busca que la condición no se cumpla, por ejemplo:\n",
    "a = 20 \n",
    "if not a < 10: #Si 'a' no es menor que 10 imprime -a es mayor que 10- \n",
    "    print ('a no es menor que 10')"
   ]
  },
  {
   "cell_type": "code",
   "execution_count": 22,
   "metadata": {},
   "outputs": [
    {
     "name": "stdout",
     "output_type": "stream",
     "text": [
      "cumple condición\n"
     ]
    }
   ],
   "source": [
    "# Para el if not con dos condiciones separadas por un OR ocurre lo siguiente:\n",
    "a=11\n",
    "b=5\n",
    "if not a < 10 or b > 3: # Se busca que 'a' no sea menor que 10 o que 'b' sea mayor que 3. El If not solo aplica para la\n",
    "    #primer variable.\n",
    "    print(\"cumple condición\")"
   ]
  },
  {
   "cell_type": "code",
   "execution_count": 25,
   "metadata": {},
   "outputs": [
    {
     "name": "stdout",
     "output_type": "stream",
     "text": [
      "cumple condición\n"
     ]
    }
   ],
   "source": [
    "a=5\n",
    "b=4\n",
    "if not a < 10 or b > 3: # Se busca que 'a' no sea menor que 10 o que 'b' sea mayor que 3. Si evalua para 'a' y no \n",
    "    #cumple la condición, evalua a 'b', sin embargo ya no aplica el criterio IF NOT, sino simplemente la condición mayor o menor. \n",
    "    print(\"cumple condición\")"
   ]
  },
  {
   "cell_type": "code",
   "execution_count": 26,
   "metadata": {},
   "outputs": [
    {
     "name": "stdout",
     "output_type": "stream",
     "text": [
      "cumple condición\n"
     ]
    }
   ],
   "source": [
    "# Para el if not con dos condiciones separadas por un AND ocurre lo siguiente:\n",
    "a=11\n",
    "b=5\n",
    "if not a < 10 and b > 3: # Se busca que 'a' no sea menor que 10 y que 'b' sea mayor que 3. Si no se cumplen ambas condiciones, \n",
    "    #no imprime.\n",
    "    print(\"cumple condición\")"
   ]
  },
  {
   "cell_type": "code",
   "execution_count": null,
   "metadata": {},
   "outputs": [],
   "source": []
  }
 ],
 "metadata": {
  "kernelspec": {
   "display_name": "Python 2",
   "language": "python",
   "name": "python2"
  },
  "language_info": {
   "codemirror_mode": {
    "name": "ipython",
    "version": 2
   },
   "file_extension": ".py",
   "mimetype": "text/x-python",
   "name": "python",
   "nbconvert_exporter": "python",
   "pygments_lexer": "ipython2",
   "version": "2.7.15"
  }
 },
 "nbformat": 4,
 "nbformat_minor": 2
}
