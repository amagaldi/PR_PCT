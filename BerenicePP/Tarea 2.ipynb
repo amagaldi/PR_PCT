{
 "cells": [
  {
   "attachments": {
    "image.png": {
     "image/png": "[encoded data removed]"
    }
   },
   "cell_type": "markdown",
   "metadata": {},
   "source": [
    "# Resolución de ecuaciones de segundo grado\n",
    "\n",
    "Una forma de resolver ecuaciones de segundo grado es utilizando la fórmula general:\n",
    "\n",
    "![image.png](attachment:image.png)\n",
    "\n"
   ]
  },
  {
   "cell_type": "markdown",
   "metadata": {},
   "source": [
    "El procedimiento es el siguiente:\n",
    "\n",
    "    a) Importar libreria math\n",
    "    b) Definir una función que va a involucrar tres variables (a, b y c)\n",
    "    c) Establecer las condiciones para calcular el resultado\n",
    "    d) Asignar valores a las variables\n",
    "    e) Imprimir el resultado"
   ]
  },
  {
   "cell_type": "code",
   "execution_count": 1,
   "metadata": {},
   "outputs": [
    {
     "name": "stdout",
     "output_type": "stream",
     "text": [
      "formula=5.29150262213\n",
      "x1=-0.177124344468\n",
      "x2=-2.82287565553\n"
     ]
    }
   ],
   "source": [
    "import math\n",
    "\n",
    "def formulag(a,b,c):\n",
    "      \n",
    "   formula = b*b-(4*a*c)   \n",
    "        \n",
    "   if(formula < 0): \n",
    "       \n",
    "       print (\"La ecuación no tiene soluciones reales\")\n",
    "                      \n",
    "   else:\n",
    "           \n",
    "       if (formula == 0): \n",
    "               \n",
    "           x1=-b/2*a\n",
    "           x2=-b/2*a\n",
    "          \n",
    "           print(\"x1=\"+str(x1)+\"\\nx2=\"+str(x2))\n",
    "               \n",
    "       if (formula > 0): \n",
    "               \n",
    "           x1=((-b)+math.sqrt(formula)) / (2*a)\n",
    "           x2=((-b)-math.sqrt(formula)) /(2*a)\n",
    "           \n",
    "           print(\"formula=\"+str(math.sqrt(formula))+\"\\nx1=\"+str(x1)+\"\\nx2=\"+str(x2))\n",
    "   \n",
    "   return x1\n",
    "        \n",
    "res = formulag(2,6,1)"
   ]
  },
  {
   "cell_type": "markdown",
   "metadata": {},
   "source": [
    "# Diagonal de la matriz"
   ]
  },
  {
   "cell_type": "markdown",
   "metadata": {},
   "source": [
    "Para obtener la diagonal de una matriz es necesario:\n",
    "    \n",
    "    a) Importar la librería numpy\n",
    "    b) Definir un arreglo que vaya desde 1 hasta 101\n",
    "    c) Reordenar los valores en una matriz de 10 por 10\n",
    "    d) Definir el inicio de fila y columna\n",
    "    e) Crear una función que extraiga e imprima los valores de la diagonal"
   ]
  },
  {
   "cell_type": "code",
   "execution_count": 2,
   "metadata": {},
   "outputs": [
    {
     "name": "stdout",
     "output_type": "stream",
     "text": [
      "1\n",
      "12\n",
      "23\n",
      "34\n",
      "45\n",
      "56\n",
      "67\n",
      "78\n",
      "89\n",
      "100\n",
      "Terminó\n"
     ]
    }
   ],
   "source": [
    "import numpy as np\n",
    "\n",
    "y = np.arange(1,101)\n",
    "\n",
    "y = np.reshape(y,(10,10)) \n",
    "\n",
    "f=0\n",
    "c=0\n",
    "\n",
    "while f < 10:\n",
    "                \n",
    "    print(y[f,c])\n",
    "    f += 1\n",
    "    c += 1\n",
    "\n",
    "print(\"Terminó\")"
   ]
  }
 ],
 "metadata": {
  "kernelspec": {
   "display_name": "Python 2",
   "language": "python",
   "name": "python2"
  },
  "language_info": {
   "codemirror_mode": {
    "name": "ipython",
    "version": 2
   },
   "file_extension": ".py",
   "mimetype": "text/x-python",
   "name": "python",
   "nbconvert_exporter": "python",
   "pygments_lexer": "ipython2",
   "version": "2.7.15"
  }
 },
 "nbformat": 4,
 "nbformat_minor": 2
}
