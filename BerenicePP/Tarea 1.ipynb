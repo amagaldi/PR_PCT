{
 "cells": [
  {
   "cell_type": "markdown",
   "metadata": {},
   "source": [
    "# If not\n",
    "\n",
    "\n",
    "If permite que una instrucción se lleve a cabo si se cumple una condición, es decir, evalúa una operación y ejecuta siempre y cuando el resultado sea verdadero.\n",
    "\n",
    "Ejemplo:\n",
    "Si el numero es mayor a 5, imprime: 'El número es mayor a 5'.\n"
   ]
  },
  {
   "cell_type": "code",
   "execution_count": 24,
   "metadata": {},
   "outputs": [
    {
     "name": "stdout",
     "output_type": "stream",
     "text": [
      "El número es mayor a 5\n"
     ]
    }
   ],
   "source": [
    "numero = 7\n",
    "if numero > 5:\n",
    "    print ('El número es mayor a 5')"
   ]
  },
  {
   "cell_type": "markdown",
   "metadata": {},
   "source": [
    "En el caso del IF NOT, se busca que la condición no se cumpla.\n",
    "\n",
    "Ejemplo: Si 'a' no es menor que 10 imprime 'a es mayor que 10'"
   ]
  },
  {
   "cell_type": "code",
   "execution_count": 27,
   "metadata": {},
   "outputs": [
    {
     "name": "stdout",
     "output_type": "stream",
     "text": [
      "a no es menor que 10\n"
     ]
    }
   ],
   "source": [
    "a = 20 \n",
    "if not a < 10:  \n",
    "    print ('a no es menor que 10')"
   ]
  },
  {
   "cell_type": "markdown",
   "metadata": {},
   "source": [
    "Para el if not con dos condiciones separadas por un OR ocurre lo siguiente:\n",
    "\n",
    "En el siguiente ejemplo se busca que 'a' no sea menor que 10 o que 'b' sea mayor que 3. El If not solo aplica para la primer variable."
   ]
  },
  {
   "cell_type": "code",
   "execution_count": 22,
   "metadata": {},
   "outputs": [
    {
     "name": "stdout",
     "output_type": "stream",
     "text": [
      "cumple condición\n"
     ]
    }
   ],
   "source": [
    "a=11\n",
    "b=5\n",
    "if not a < 10 or b > 3: # \n",
    "    print(\"cumple condición\")"
   ]
  },
  {
   "cell_type": "markdown",
   "metadata": {},
   "source": [
    "Para el caso que se muestra a cntinuación, se busca que 'a' no sea menor que 10 o que 'b' sea mayor que 3. Si evalua para 'a' y no cumple la condición, evalua a 'b', sin embargo, ya no aplica el criterio IF NOT, sino simplemente la condición mayor o menor."
   ]
  },
  {
   "cell_type": "code",
   "execution_count": 25,
   "metadata": {},
   "outputs": [
    {
     "name": "stdout",
     "output_type": "stream",
     "text": [
      "cumple condición\n"
     ]
    }
   ],
   "source": [
    "a=5\n",
    "b=4\n",
    "if not a < 10 or b > 3:  \n",
    "    print(\"cumple condición\")"
   ]
  },
  {
   "cell_type": "markdown",
   "metadata": {},
   "source": [
    "Para el if not con dos condiciones separadas por un AND ocurre lo siguiente:\n",
    "\n",
    "Se busca que 'a' no sea menor que 10 y que 'b' sea mayor que 3. Si no se cumplen ambas condiciones, no imprime."
   ]
  },
  {
   "cell_type": "code",
   "execution_count": 26,
   "metadata": {},
   "outputs": [
    {
     "name": "stdout",
     "output_type": "stream",
     "text": [
      "cumple condición\n"
     ]
    }
   ],
   "source": [
    "a=11\n",
    "b=5\n",
    "if not a < 10 and b > 3: # \n",
    "    print(\"cumple condición\")"
   ]
  },
  {
   "cell_type": "markdown",
   "metadata": {},
   "source": [
    "\n",
    "# Suma de números consecutivos"
   ]
  },
  {
   "cell_type": "code",
   "execution_count": 1,
   "metadata": {},
   "outputs": [
    {
     "name": "stdout",
     "output_type": "stream",
     "text": [
      "El resultado es:55\n"
     ]
    }
   ],
   "source": [
    "def suma(x):\n",
    "    \n",
    "    f=(x*(x+1)) / (2)\n",
    "    return f\n",
    "\n",
    "y=suma(10)\n",
    "print (\"El resultado es:\"+str(y))"
   ]
  },
  {
   "cell_type": "markdown",
   "metadata": {},
   "source": [
    "# Raíces método Bakhshali"
   ]
  },
  {
   "cell_type": "markdown",
   "metadata": {},
   "source": [
    "Para el cálculo de raíces por el método de Bakhshali se debe llevar a cabo lo siguiente:\n",
    "\n",
    "    a) Importar librería para decimales\n",
    "    b) Definir la función y los parámetros de entrada\n",
    "    c) Determinar el margen de error en la aproximación \n",
    "    d) Añadir un contador de iteraciones (i)\n",
    "    e) Elegir una estructura de control para la función\n",
    "    f) Establecer todas las ecuaciones necesarias para calcular la raíz  \n",
    "    g) Imprimir 'texto' concatenado con el valor de a y lo mismo para b y x\n",
    "    h) Asignar valores a los parámetros de entrada para calcular el resultado"
   ]
  },
  {
   "cell_type": "code",
   "execution_count": 14,
   "metadata": {},
   "outputs": [
    {
     "name": "stdout",
     "output_type": "stream",
     "text": [
      "Iteracion No: 1\n",
      "\n",
      "Valor de a:-258.333 Valor de b: 341.667 Valor de la raiz: 244.004\n",
      "\n",
      "Iteracion No: 2\n",
      "\n",
      "Valor de a:-19.545 Valor de b: 224.459 Valor de la raiz: 223.608\n",
      "\n",
      "Iteracion No: 3\n",
      "\n",
      "Valor de a:-0.002 Valor de b: 223.607 Valor de la raiz: 223.607\n",
      "\n",
      "Resultado: 223.607\n"
     ]
    }
   ],
   "source": [
    "from __future__ import division\n",
    "\n",
    "def Bak(s,x):   \n",
    "    eps=1e-20 \n",
    "    i=0\n",
    "            \n",
    "    while(x*x - s) > eps:\n",
    "        \n",
    "        a = (s-x*x)/(2*x)\n",
    "        b = x+a\n",
    "        x = (b)-(a*a/(2*(x+a)))  \n",
    "        i += 1\n",
    "        \n",
    "        print \"Iteracion No: \"+str(i)+\"\\n\"\n",
    "        print (\"Valor de a:\"+ str(round(a,3)) +\" Valor de b: \"+ str(round(b,3)) +\" Valor de la raiz: \"+str(round(x,3))+\"\\n\")\n",
    "    \n",
    "    return round(x,3)\n",
    "\n",
    "print (\"Resultado: \"+str(Bak(50000,600)))"
   ]
  }
 ],
 "metadata": {
  "kernelspec": {
   "display_name": "Python 2",
   "language": "python",
   "name": "python2"
  },
  "language_info": {
   "codemirror_mode": {
    "name": "ipython",
    "version": 2
   },
   "file_extension": ".py",
   "mimetype": "text/x-python",
   "name": "python",
   "nbconvert_exporter": "python",
   "pygments_lexer": "ipython2",
   "version": "2.7.15"
  }
 },
 "nbformat": 4,
 "nbformat_minor": 2
}
