{
 "cells": [
  {
   "cell_type": "markdown",
   "metadata": {},
   "source": [
    "# Histograma\n",
    "\n",
    "Un histograma permite representar la distribución de una variable en función de la frecuencia. Los valores son agrupados en bins o intervalos que pueden ser definidos por diversos métodos a partir del número de datos que se tiene o el objetivo de la representación. En el eje vertical generalmente se muestran los valores y en el horizontal las frecuencias.\n",
    "\n"
   ]
  },
  {
   "cell_type": "markdown",
   "metadata": {},
   "source": [
    "La forma más sencilla de generar un histograma es creando la lista de valores y definiendo el número de bins como se muestra a continuación."
   ]
  },
  {
   "cell_type": "code",
   "execution_count": 41,
   "metadata": {},
   "outputs": [
    {
     "data": {
      "image/png": "[encoded data removed]",
      "text/plain": [
       "<Figure size 432x288 with 1 Axes>"
      ]
     },
     "metadata": {},
     "output_type": "display_data"
    }
   ],
   "source": [
    "import numpy as np\n",
    "import matplotlib.mlab as mlab\n",
    "import matplotlib.pyplot as plt\n",
    " \n",
    "x = [1,1,1,1,2,2,2,2,5,5,5,5,5,5,5,5,5,5,5,9,9,9,9,9,11,12,15,16,16,16,16,16,16,17,17,19,21,22,23,4,5,6,33,8,9,10,31,32,33,34,35,36,37,18]\n",
    "num_bins = 5\n",
    "n, bins, patches = plt.hist(x, num_bins, facecolor='green', alpha=0.8)\n",
    "plt.show()"
   ]
  },
  {
   "cell_type": "markdown",
   "metadata": {},
   "source": [
    "En el siguiente ejemplo el histograma es generado a partir de numeros aleatorios, que después son ordenadados o concatenados mediante \"np.hstack\". La función \"normal\" permite dibujar como una distribución normal las muestras aleatorias. Los parámetros loc, scale y size corresponden a la media, la desviación estandar y el tamaño de la distribución, respectivamente. Finalmente a partir de estos valores se calculan automáticamente lo bins. "
   ]
  },
  {
   "cell_type": "code",
   "execution_count": 42,
   "metadata": {},
   "outputs": [
    {
     "data": {
      "image/png": "[encoded data removed]",
      "text/plain": [
       "<Figure size 432x288 with 1 Axes>"
      ]
     },
     "metadata": {},
     "output_type": "display_data"
    }
   ],
   "source": [
    "import matplotlib.pyplot as plt\n",
    "rng = np.random.RandomState(seed=None)  \n",
    "a = np.hstack((rng.normal(size=2),\n",
    "               rng.normal(loc=20, scale=10, size=50)))\n",
    "plt.hist(a, bins='auto')  \n",
    "plt.show()"
   ]
  },
  {
   "cell_type": "markdown",
   "metadata": {},
   "source": [
    "Para crear un histograma a partir de un archivo y con los bins definidos de forma automática se realiza lo siguiente."
   ]
  },
  {
   "cell_type": "code",
   "execution_count": 43,
   "metadata": {},
   "outputs": [
    {
     "name": "stdout",
     "output_type": "stream",
     "text": [
      "[4036.3 3844.3 3679.5 3217.8 2868.  2745.1 2591.8 2300.8 2275.2 2173.4\n",
      " 2171.2 2084.5 2019.3 1982.2 1924.1 1765.2 1763.6 1682.  1678.4 1639.6\n",
      " 1516.4 1441.4 1440.1 1352.6 1310.5 1308.4 1254.6 1235.6 1231.5 1185.5\n",
      " 1171.9 1156.9 1103.  1078.4 1070.9 1064.4 1044.6 1031.5  987.8  987.\n",
      "  984.8  982.4  974.7  895.1  875.9  873.9  855.   839.3  833.6  828.1\n",
      "  822.7  812.   811.9  792.8  792.3  776.5  776.1  761.6  744.9  739.1\n",
      "  738.   734.1  723.6  711.1  704.2  699.   695.5  694.3  693.8  683.9\n",
      "  680.8  653.1  650.3  647.9  645.   640.   632.   614.8  603.4  600.8\n",
      "  596.5  578.5  577.8  576.7  576.6  553.5  538.9  535.8  526.5  516.4\n",
      "  512.7  509.5  481.4  441.3  427.7  419.7  400.1  394.3  254.8  175.5]\n"
     ]
    },
    {
     "data": {
      "image/png": "[encoded data removed]",
      "text/plain": [
       "<Figure size 432x288 with 1 Axes>"
      ]
     },
     "metadata": {},
     "output_type": "display_data"
    }
   ],
   "source": [
    "import pandas as pd\n",
    "import numpy as np\n",
    "import matplotlib.pyplot as plt\n",
    "\n",
    "datos=pd.read_csv('C:/Users/Berenice/Desktop/CCA/TESIS/HDF5pruebas/Proyectos/lluvia.csv', header=0)\n",
    "x = datos['prec']\n",
    "print x.values\n",
    "\n",
    "plt.hist([x], color=['red'])\n",
    "\n",
    "legend = ['Prec', 'Bin']\n",
    "plt.xlabel(\"Precipitacion (mm)\")\n",
    "plt.ylabel(\"Frecuencia\")\n",
    "\n",
    "plt.title('Precipitacion')\n",
    "plt.show()\n"
   ]
  },
  {
   "cell_type": "markdown",
   "metadata": {},
   "source": [
    "# Ejercicio 11"
   ]
  },
  {
   "cell_type": "markdown",
   "metadata": {},
   "source": [
    "1) Lee los datos configurando correctamente el índice como un índice de fecha."
   ]
  },
  {
   "cell_type": "code",
   "execution_count": 44,
   "metadata": {},
   "outputs": [
    {
     "name": "stdout",
     "output_type": "stream",
     "text": [
      "             Unnamed: 0  rain  tmax  tmin\n",
      "0        1/1/1972 12:00  31.6  16.8  13.5\n",
      "1        1/2/1972 12:00  28.3  20.6   8.8\n",
      "2        1/3/1972 12:00  10.7  15.8   8.3\n",
      "3        1/4/1972 12:00  11.3  12.9   7.7\n",
      "4        1/5/1972 12:00   0.0  13.2   7.0\n",
      "5        1/6/1972 12:00   0.0  14.6   9.0\n",
      "6        1/7/1972 12:00   0.0  17.3   5.5\n",
      "7        1/8/1972 12:00   0.0  14.9   3.6\n",
      "8        1/9/1972 12:00   0.0  17.6   8.9\n",
      "9       1/10/1972 12:00   5.0  15.2  13.0\n",
      "10      1/11/1972 12:00  16.4  17.5  10.1\n",
      "11      1/12/1972 12:00  61.1  14.9   6.1\n",
      "12      1/13/1972 12:00  37.9  20.7   9.8\n",
      "13      1/14/1972 12:00  13.1  11.1   4.6\n",
      "14      1/15/1972 12:00   0.0  11.5   4.8\n",
      "15      1/16/1972 12:00   0.0  15.0   5.9\n",
      "16      1/17/1972 12:00   0.0  12.8   8.7\n",
      "17      1/18/1972 12:00  11.0  15.5   8.2\n",
      "18      1/19/1972 12:00  59.5  14.3  10.8\n",
      "19      1/20/1972 12:00   0.0  15.1   7.8\n",
      "20      1/21/1972 12:00   0.0  16.9  10.2\n",
      "21      1/22/1972 12:00   2.7  20.7  11.2\n",
      "22      1/23/1972 12:00   0.0  19.2  12.3\n",
      "23      1/24/1972 12:00  20.1  22.4  12.7\n",
      "24      1/25/1972 12:00   0.0  20.5  10.2\n",
      "25      1/26/1972 12:00   0.0  17.9   9.3\n",
      "26      1/27/1972 12:00   2.2  22.7  12.2\n",
      "27      1/28/1972 12:00  59.9  23.1  12.4\n",
      "28      1/29/1972 12:00  15.7  14.2   5.1\n",
      "29      1/30/1972 12:00  29.9   6.0   3.4\n",
      "...                 ...   ...   ...   ...\n",
      "15311   12/2/2013 13:00   0.0  18.5   6.7\n",
      "15312   12/3/2013 13:00   0.0  17.3   9.0\n",
      "15313   12/4/2013 13:00   0.0  19.3   7.8\n",
      "15314   12/5/2013 13:00   1.0  20.5   9.2\n",
      "15315   12/6/2013 13:00  26.0  16.1  13.7\n",
      "15316   12/7/2013 13:00   8.6  13.5  10.1\n",
      "15317   12/8/2013 13:00   0.0  13.9   8.9\n",
      "15318   12/9/2013 13:00   0.0  16.4   7.4\n",
      "15319  12/10/2013 13:00   1.9  14.3   9.2\n",
      "15320  12/11/2013 13:00  12.2  14.3   8.9\n",
      "15321  12/12/2013 13:00   5.7  13.3   9.4\n",
      "15322  12/13/2013 13:00   4.4  13.5   9.2\n",
      "15323  12/14/2013 13:00  29.2  13.4  10.3\n",
      "15324  12/15/2013 13:00  36.1  17.0  10.2\n",
      "15325  12/16/2013 13:00   3.4  13.8   9.1\n",
      "15326  12/17/2013 13:00  16.0  15.5   6.0\n",
      "15327  12/18/2013 13:00   4.4  13.5   7.3\n",
      "15328  12/19/2013 13:00   0.0  15.4   5.3\n",
      "15329  12/20/2013 13:00  78.0  15.6   7.5\n",
      "15330  12/21/2013 13:00   8.2  11.8   8.8\n",
      "15331  12/22/2013 13:00   1.2  13.5   4.1\n",
      "15332  12/23/2013 13:00  29.0  12.9   6.0\n",
      "15333  12/24/2013 13:00  41.3  14.1   7.8\n",
      "15334  12/25/2013 13:00   0.0  14.5   8.8\n",
      "15335  12/26/2013 13:00   0.0  22.0   9.8\n",
      "15336  12/27/2013 13:00   1.6  20.5  10.9\n",
      "15337  12/28/2013 13:00   1.2  20.9  11.7\n",
      "15338  12/29/2013 13:00  25.3  20.0  12.2\n",
      "15339  12/30/2013 13:00  27.7  12.1  10.7\n",
      "15340  12/31/2013 13:00  42.5  10.4   7.1\n",
      "\n",
      "[15341 rows x 4 columns]\n"
     ]
    }
   ],
   "source": [
    "datos=pd.read_csv('C:/Users/Berenice/Desktop/CCA/Semestre 3/PR/python/data/Daily_clim_data_Auckland.csv')\n",
    "print datos\n"
   ]
  },
  {
   "cell_type": "markdown",
   "metadata": {},
   "source": [
    "Para generar el índice se deben asignar los nombres a las columnas y después seleccionar a cuál de ellas va a aplicarse el formato de día y hora, a través de la función \"pd.to_datetime\"."
   ]
  },
  {
   "cell_type": "code",
   "execution_count": 45,
   "metadata": {},
   "outputs": [
    {
     "data": {
      "text/html": [
       "<div>\n",
       "<style scoped>\n",
       "    .dataframe tbody tr th:only-of-type {\n",
       "        vertical-align: middle;\n",
       "    }\n",
       "\n",
       "    .dataframe tbody tr th {\n",
       "        vertical-align: top;\n",
       "    }\n",
       "\n",
       "    .dataframe thead th {\n",
       "        text-align: right;\n",
       "    }\n",
       "</style>\n",
       "<table border=\"1\" class=\"dataframe\">\n",
       "  <thead>\n",
       "    <tr style=\"text-align: right;\">\n",
       "      <th></th>\n",
       "      <th>rain</th>\n",
       "      <th>tmax</th>\n",
       "      <th>tmin</th>\n",
       "    </tr>\n",
       "    <tr>\n",
       "      <th>Unnamed: 0</th>\n",
       "      <th></th>\n",
       "      <th></th>\n",
       "      <th></th>\n",
       "    </tr>\n",
       "  </thead>\n",
       "  <tbody>\n",
       "    <tr>\n",
       "      <th>1972-01-01 12:00:00</th>\n",
       "      <td>31.6</td>\n",
       "      <td>16.8</td>\n",
       "      <td>13.5</td>\n",
       "    </tr>\n",
       "    <tr>\n",
       "      <th>1972-01-02 12:00:00</th>\n",
       "      <td>28.3</td>\n",
       "      <td>20.6</td>\n",
       "      <td>8.8</td>\n",
       "    </tr>\n",
       "    <tr>\n",
       "      <th>1972-01-03 12:00:00</th>\n",
       "      <td>10.7</td>\n",
       "      <td>15.8</td>\n",
       "      <td>8.3</td>\n",
       "    </tr>\n",
       "    <tr>\n",
       "      <th>1972-01-04 12:00:00</th>\n",
       "      <td>11.3</td>\n",
       "      <td>12.9</td>\n",
       "      <td>7.7</td>\n",
       "    </tr>\n",
       "    <tr>\n",
       "      <th>1972-01-05 12:00:00</th>\n",
       "      <td>0.0</td>\n",
       "      <td>13.2</td>\n",
       "      <td>7.0</td>\n",
       "    </tr>\n",
       "  </tbody>\n",
       "</table>\n",
       "</div>"
      ],
      "text/plain": [
       "                     rain  tmax  tmin\n",
       "Unnamed: 0                           \n",
       "1972-01-01 12:00:00  31.6  16.8  13.5\n",
       "1972-01-02 12:00:00  28.3  20.6   8.8\n",
       "1972-01-03 12:00:00  10.7  15.8   8.3\n",
       "1972-01-04 12:00:00  11.3  12.9   7.7\n",
       "1972-01-05 12:00:00   0.0  13.2   7.0"
      ]
     },
     "execution_count": 45,
     "metadata": {},
     "output_type": "execute_result"
    }
   ],
   "source": [
    "columnas = ['Unnamed: 0','rain','tmax','tmin']\n",
    "datos['Unnamed: 0'] = pd.to_datetime(datos['Unnamed: 0'], dayfirst = False)            \n",
    "datos = datos.set_index([('Unnamed: 0')]) \n",
    "datos.head()"
   ]
  },
  {
   "cell_type": "code",
   "execution_count": 46,
   "metadata": {},
   "outputs": [],
   "source": [
    "c_rain = datos.loc[:,'rain']\n",
    "c_tmax= datos.loc[:,'tmax']\n",
    "c_tmin = datos.loc[:,'tmin']\n"
   ]
  },
  {
   "cell_type": "markdown",
   "metadata": {},
   "source": [
    "2a) Calcule medias mensuales "
   ]
  },
  {
   "cell_type": "markdown",
   "metadata": {},
   "source": [
    "Para el cálculo de las medias mensuales se utiliza la función 'resample' útil para el muestreo de series de tiempo. Para ello, el objeto debe tener un índice de fecha y hora (datatime index)."
   ]
  },
  {
   "cell_type": "code",
   "execution_count": 16,
   "metadata": {},
   "outputs": [
    {
     "name": "stdout",
     "output_type": "stream",
     "text": [
      "                 rain       tmax       tmin\n",
      "Unnamed: 0                                 \n",
      "1972-01-31  13.503226  16.206452   8.593548\n",
      "1972-02-29   3.410345  18.406897   9.775862\n",
      "1972-03-31  27.093548  14.712903   9.590323\n",
      "1972-04-30  16.316667  12.350000   7.326667\n",
      "1972-05-31  12.900000   8.593548   3.077419\n",
      "1972-06-30   7.443333   5.646667   0.590000\n",
      "1972-07-31  12.035484   5.570968   1.629032\n",
      "1972-08-31   4.000000   6.674194   0.316129\n",
      "1972-09-30  29.330000   8.916667   3.996667\n",
      "1972-10-31  16.580645  10.506452   4.900000\n",
      "1972-11-30  12.976667  13.960000   7.016667\n",
      "1972-12-31  10.425806  14.358065   6.670968\n",
      "1973-01-31   9.270968  16.954839   8.954839\n",
      "1973-02-28  13.139286  18.142857  10.310714\n",
      "1973-03-31  11.390323  15.570968   8.648387\n",
      "1973-04-30  21.206667  11.710000   6.023333\n",
      "1973-05-31  19.300000   7.800000   4.674194\n",
      "1973-06-30   9.580000   5.456667   2.306667\n",
      "1973-07-31   1.825806   5.212903   1.009677\n",
      "1973-08-31   6.887097   6.532258   1.361290\n",
      "1973-09-30  10.253333  10.130000   3.666667\n",
      "1973-10-31  13.632258  11.445161   5.193548\n",
      "1973-11-30  18.040000  12.233333   6.000000\n",
      "1973-12-31   9.090323  17.845161   9.096774\n",
      "1974-01-31   3.696774  16.870968   8.687097\n",
      "1974-02-28  13.617857  18.017857  11.939286\n",
      "1974-03-31   8.858065  15.958065   8.245161\n",
      "1974-04-30   6.480000  13.166667   7.413333\n",
      "1974-05-31   6.574194  10.219355   5.725806\n",
      "1974-06-30  15.283333   6.183333   1.576667\n",
      "...               ...        ...        ...\n",
      "2011-07-31  10.690323   7.619355   2.970968\n",
      "2011-08-31   7.780645   7.777419   3.180645\n",
      "2011-09-30   9.116667   9.466667   4.146667\n",
      "2011-10-31   8.854839  12.606452   5.764516\n",
      "2011-11-30  14.733333  12.243333   5.696667\n",
      "2011-12-31   3.267742  18.738710  10.232258\n",
      "2012-01-31  10.267742  15.435484   8.409677\n",
      "2012-02-29   5.620690  17.300000  10.727586\n",
      "2012-03-31   7.254839  14.761290   7.867742\n",
      "2012-04-30   4.490000  14.613333   8.880000\n",
      "2012-05-31   9.154839  10.603226   5.461290\n",
      "2012-06-30   9.016667   8.166667   3.130000\n",
      "2012-07-31   6.125806   9.509677   4.974194\n",
      "2012-08-31   3.390323  11.029032   5.306452\n",
      "2012-09-30  12.773333  10.333333   5.213333\n",
      "2012-10-31  17.322581  10.900000   4.332258\n",
      "2012-11-30   9.146667  13.243333   6.080000\n",
      "2012-12-31  14.590323  15.725806   8.490323\n",
      "2013-01-31  12.158065  16.503226   9.274194\n",
      "2013-02-28   4.239286  18.278571  10.810714\n",
      "2013-03-31   8.935484  17.287097  10.867742\n",
      "2013-04-30   9.923333  14.220000   8.233333\n",
      "2013-05-31   8.877419  11.125806   5.877419\n",
      "2013-06-30   4.590000   9.516667   4.610000\n",
      "2013-07-31  14.038710   8.935484   4.961290\n",
      "2013-08-31   9.525806   9.938710   5.358065\n",
      "2013-09-30  10.620000  10.746667   4.576667\n",
      "2013-10-31  17.532258  10.838710   5.400000\n",
      "2013-11-30   8.450000  15.120000   7.800000\n",
      "2013-12-31  13.061290  15.496774   8.629032\n",
      "\n",
      "[504 rows x 3 columns]\n"
     ]
    }
   ],
   "source": [
    "m_mens=datos.resample ('M').mean()\n",
    "print m_mens"
   ]
  },
  {
   "cell_type": "markdown",
   "metadata": {},
   "source": [
    "2b) Calcule total mensual "
   ]
  },
  {
   "cell_type": "code",
   "execution_count": 17,
   "metadata": {},
   "outputs": [
    {
     "name": "stdout",
     "output_type": "stream",
     "text": [
      "             rain   tmax   tmin\n",
      "Unnamed: 0                     \n",
      "1972-01-31  418.6  502.4  266.4\n",
      "1972-02-29   98.9  533.8  283.5\n",
      "1972-03-31  839.9  456.1  297.3\n",
      "1972-04-30  489.5  370.5  219.8\n",
      "1972-05-31  399.9  266.4   95.4\n",
      "1972-06-30  223.3  169.4   17.7\n",
      "1972-07-31  373.1  172.7   50.5\n",
      "1972-08-31  124.0  206.9    9.8\n",
      "1972-09-30  879.9  267.5  119.9\n",
      "1972-10-31  514.0  325.7  151.9\n",
      "1972-11-30  389.3  418.8  210.5\n",
      "1972-12-31  323.2  445.1  206.8\n",
      "1973-01-31  287.4  525.6  277.6\n",
      "1973-02-28  367.9  508.0  288.7\n",
      "1973-03-31  353.1  482.7  268.1\n",
      "1973-04-30  636.2  351.3  180.7\n",
      "1973-05-31  598.3  241.8  144.9\n",
      "1973-06-30  287.4  163.7   69.2\n",
      "1973-07-31   56.6  161.6   31.3\n",
      "1973-08-31  213.5  202.5   42.2\n",
      "1973-09-30  307.6  303.9  110.0\n",
      "1973-10-31  422.6  354.8  161.0\n",
      "1973-11-30  541.2  367.0  180.0\n",
      "1973-12-31  281.8  553.2  282.0\n",
      "1974-01-31  114.6  523.0  269.3\n",
      "1974-02-28  381.3  504.5  334.3\n",
      "1974-03-31  274.6  494.7  255.6\n",
      "1974-04-30  194.4  395.0  222.4\n",
      "1974-05-31  203.8  316.8  177.5\n",
      "1974-06-30  458.5  185.5   47.3\n",
      "...           ...    ...    ...\n",
      "2011-07-31  331.4  236.2   92.1\n",
      "2011-08-31  241.2  241.1   98.6\n",
      "2011-09-30  273.5  284.0  124.4\n",
      "2011-10-31  274.5  390.8  178.7\n",
      "2011-11-30  442.0  367.3  170.9\n",
      "2011-12-31  101.3  580.9  317.2\n",
      "2012-01-31  318.3  478.5  260.7\n",
      "2012-02-29  163.0  501.7  311.1\n",
      "2012-03-31  224.9  457.6  243.9\n",
      "2012-04-30  134.7  438.4  266.4\n",
      "2012-05-31  283.8  328.7  169.3\n",
      "2012-06-30  270.5  245.0   93.9\n",
      "2012-07-31  189.9  294.8  154.2\n",
      "2012-08-31  105.1  341.9  164.5\n",
      "2012-09-30  383.2  310.0  156.4\n",
      "2012-10-31  537.0  337.9  134.3\n",
      "2012-11-30  274.4  397.3  182.4\n",
      "2012-12-31  452.3  487.5  263.2\n",
      "2013-01-31  376.9  511.6  287.5\n",
      "2013-02-28  118.7  511.8  302.7\n",
      "2013-03-31  277.0  535.9  336.9\n",
      "2013-04-30  297.7  426.6  247.0\n",
      "2013-05-31  275.2  344.9  182.2\n",
      "2013-06-30  137.7  285.5  138.3\n",
      "2013-07-31  435.2  277.0  153.8\n",
      "2013-08-31  295.3  308.1  166.1\n",
      "2013-09-30  318.6  322.4  137.3\n",
      "2013-10-31  543.5  336.0  167.4\n",
      "2013-11-30  253.5  453.6  234.0\n",
      "2013-12-31  404.9  480.4  267.5\n",
      "\n",
      "[504 rows x 3 columns]\n"
     ]
    }
   ],
   "source": [
    "t_mens=datos.resample ('M').sum()\n",
    "print t_mens"
   ]
  },
  {
   "cell_type": "markdown",
   "metadata": {},
   "source": [
    "3) Calcular y trazar una climatología durante el período 1981 - 2000 para todos los parámetros."
   ]
  },
  {
   "cell_type": "markdown",
   "metadata": {},
   "source": [
    "Hay diferentes formas de realizar un filtro de una serie de datos, sin embargo, los parámetros de entrada coinciden en todas ellas y las variaciones se encuentran en la sitaxis."
   ]
  },
  {
   "cell_type": "code",
   "execution_count": 18,
   "metadata": {},
   "outputs": [
    {
     "name": "stdout",
     "output_type": "stream",
     "text": [
      "                      rain  tmax  tmin\n",
      "Unnamed: 0                            \n",
      "1981-01-01 13:00:00    0.0  15.7   9.0\n",
      "1981-01-02 13:00:00   19.5  10.9  12.9\n",
      "1981-01-03 13:00:00    0.0  20.3  10.7\n",
      "1981-01-04 13:00:00   59.9  16.8   9.8\n",
      "1981-01-05 13:00:00   24.4  10.5   8.6\n",
      "1981-01-06 13:00:00   25.4  11.9   6.3\n",
      "1981-01-07 13:00:00   11.5  10.5   7.4\n",
      "1981-01-08 13:00:00    0.0  12.7   4.7\n",
      "1981-01-09 13:00:00    0.0  10.8   7.0\n",
      "1981-01-10 13:00:00    0.0  17.6  11.0\n",
      "1981-01-11 13:00:00    6.2  13.2  11.6\n",
      "1981-01-12 13:00:00    0.0  17.1  12.1\n",
      "1981-01-13 13:00:00    0.0  18.6   7.4\n",
      "1981-01-14 13:00:00    0.0  23.3   9.0\n",
      "1981-01-15 13:00:00    0.0  22.2   9.2\n",
      "1981-01-16 13:00:00    0.0  18.1  13.4\n",
      "1981-01-17 13:00:00    0.0  22.4  11.3\n",
      "1981-01-18 13:00:00    0.0  15.6  11.1\n",
      "1981-01-19 13:00:00    9.4  16.5  11.9\n",
      "1981-01-20 13:00:00    0.0  17.4  14.1\n",
      "1981-01-21 13:00:00    0.0  20.6  12.8\n",
      "1981-01-22 13:00:00   23.3  21.1  10.8\n",
      "1981-01-23 13:00:00    5.6  17.1   9.1\n",
      "1981-01-24 13:00:00    0.0  12.9   9.4\n",
      "1981-01-25 13:00:00    4.0  13.5  10.2\n",
      "1981-01-26 13:00:00   14.2  15.4  10.5\n",
      "1981-01-27 13:00:00  100.2  13.0  12.1\n",
      "1981-01-28 13:00:00    0.0  11.1  10.0\n",
      "1981-01-29 13:00:00    0.0  14.9  10.0\n",
      "1981-01-30 13:00:00    0.0  16.5   8.7\n",
      "...                    ...   ...   ...\n",
      "2000-12-02 13:00:00   34.5  12.6  12.0\n",
      "2000-12-03 13:00:00    0.0  16.1   7.0\n",
      "2000-12-04 13:00:00    0.0  18.4   7.6\n",
      "2000-12-05 13:00:00    0.0  17.1  10.4\n",
      "2000-12-06 13:00:00   32.5  14.5  10.7\n",
      "2000-12-07 13:00:00    2.6  14.9   7.9\n",
      "2000-12-08 13:00:00    0.0  15.8   5.6\n",
      "2000-12-09 13:00:00    0.0  16.0   5.7\n",
      "2000-12-10 13:00:00    3.4  15.3   8.7\n",
      "2000-12-11 13:00:00    0.0  18.4  10.6\n",
      "2000-12-12 13:00:00    5.4  16.3  10.3\n",
      "2000-12-13 13:00:00   31.3  16.0  12.7\n",
      "2000-12-14 13:00:00    0.0  18.0  13.2\n",
      "2000-12-15 13:00:00    0.0  18.8  10.6\n",
      "2000-12-16 13:00:00    0.0  18.9  10.0\n",
      "2000-12-17 13:00:00    0.0  20.2   9.8\n",
      "2000-12-18 13:00:00    1.5  18.1  11.5\n",
      "2000-12-19 13:00:00   64.5  15.1  13.8\n",
      "2000-12-20 13:00:00    9.9  16.0  14.6\n",
      "2000-12-21 13:00:00    9.2  11.3   8.0\n",
      "2000-12-22 13:00:00   11.4  13.3   5.8\n",
      "2000-12-23 13:00:00   43.9  15.6   7.3\n",
      "2000-12-24 13:00:00   40.1  14.7  11.1\n",
      "2000-12-25 13:00:00   10.6  14.3   9.2\n",
      "2000-12-26 13:00:00   15.2  12.0   8.0\n",
      "2000-12-27 13:00:00   29.2  14.3   9.5\n",
      "2000-12-28 13:00:00    9.7  13.7   9.1\n",
      "2000-12-29 13:00:00   23.7  11.3   8.1\n",
      "2000-12-30 13:00:00   16.1  12.1   5.7\n",
      "2000-12-31 13:00:00    2.3  11.4   4.9\n",
      "\n",
      "[7305 rows x 3 columns]\n"
     ]
    }
   ],
   "source": [
    "filtro =datos.loc[(datos.index.year >=1981) & (datos.index.year<= 2000)]\n",
    "print filtro\n"
   ]
  },
  {
   "cell_type": "code",
   "execution_count": 19,
   "metadata": {},
   "outputs": [
    {
     "name": "stdout",
     "output_type": "stream",
     "text": [
      "                 rain       tmax      tmin\n",
      "Unnamed: 0                                \n",
      "1           15.767581  17.038548  9.712903\n",
      "2           11.819469  17.381947  9.999115\n",
      "3           11.599516  15.683387  8.827419\n",
      "4           11.991500  12.759333  7.215833\n",
      "5           13.457581  10.299677  5.467419\n",
      "6           11.601167   8.222500  3.790500\n",
      "7           10.130323   7.690484  3.130645\n",
      "8            9.739516   8.769839  3.363871\n",
      "9           10.782000  10.953833  4.435667\n",
      "10          14.878065  12.692903  5.749677\n",
      "11          11.087833  14.409333  6.981500\n",
      "12          13.862903  15.630968  8.431290\n"
     ]
    }
   ],
   "source": [
    "medias=filtro.groupby(filtro.index.month)\n",
    "climatologia=medias.mean()\n",
    "print climatologia"
   ]
  },
  {
   "cell_type": "code",
   "execution_count": 20,
   "metadata": {},
   "outputs": [
    {
     "name": "stdout",
     "output_type": "stream",
     "text": [
      "Unnamed: 0\n",
      "1     15.767581\n",
      "2     11.819469\n",
      "3     11.599516\n",
      "4     11.991500\n",
      "5     13.457581\n",
      "6     11.601167\n",
      "7     10.130323\n",
      "8      9.739516\n",
      "9     10.782000\n",
      "10    14.878065\n",
      "11    11.087833\n",
      "12    13.862903\n",
      "Name: rain, dtype: float64\n"
     ]
    },
    {
     "data": {
      "image/png": "[encoded data removed]",
      "text/plain": [
       "<Figure size 432x288 with 1 Axes>"
      ]
     },
     "metadata": {},
     "output_type": "display_data"
    }
   ],
   "source": [
    "rainf=climatologia.loc[:,'rain']\n",
    "print rainf\n",
    "f, ax = plt.subplots()\n",
    "rainf.plot(ax=ax, kind='bar', rot=0, width=0.6,title = 'Climatologia lluvia')\n",
    "ax.set_xticklabels(list('EFMAMJJASOND'));"
   ]
  },
  {
   "cell_type": "code",
   "execution_count": 22,
   "metadata": {},
   "outputs": [
    {
     "name": "stdout",
     "output_type": "stream",
     "text": [
      "Unnamed: 0\n",
      "1     17.038548\n",
      "2     17.381947\n",
      "3     15.683387\n",
      "4     12.759333\n",
      "5     10.299677\n",
      "6      8.222500\n",
      "7      7.690484\n",
      "8      8.769839\n",
      "9     10.953833\n",
      "10    12.692903\n",
      "11    14.409333\n",
      "12    15.630968\n",
      "Name: tmax, dtype: float64\n"
     ]
    },
    {
     "data": {
      "image/png": "[encoded data removed]",
      "text/plain": [
       "<Figure size 432x288 with 1 Axes>"
      ]
     },
     "metadata": {},
     "output_type": "display_data"
    }
   ],
   "source": [
    "tmaxc=climatologia.loc[:,'tmax']\n",
    "print tmaxc\n",
    "f, ax = plt.subplots()\n",
    "tmaxc.plot(ax=ax, kind='bar', rot=0, width=0.6,title = 'Climatologia temperatura maxima')\n",
    "ax.set_xticklabels(list('EFMAMJJASOND'));"
   ]
  },
  {
   "cell_type": "code",
   "execution_count": 23,
   "metadata": {},
   "outputs": [
    {
     "name": "stdout",
     "output_type": "stream",
     "text": [
      "Unnamed: 0\n",
      "1     9.712903\n",
      "2     9.999115\n",
      "3     8.827419\n",
      "4     7.215833\n",
      "5     5.467419\n",
      "6     3.790500\n",
      "7     3.130645\n",
      "8     3.363871\n",
      "9     4.435667\n",
      "10    5.749677\n",
      "11    6.981500\n",
      "12    8.431290\n",
      "Name: tmin, dtype: float64\n"
     ]
    },
    {
     "data": {
      "image/png": "[encoded data removed]",
      "text/plain": [
       "<Figure size 432x288 with 1 Axes>"
      ]
     },
     "metadata": {},
     "output_type": "display_data"
    }
   ],
   "source": [
    "tminc=climatologia.loc[:,'tmin']\n",
    "print tminc\n",
    "f, ax = plt.subplots()\n",
    "tminc.plot(ax=ax, kind='bar', rot=0, width=0.6,title = 'Climatologia temperatura minima')\n",
    "ax.set_xticklabels(list('EFMAMJJASOND'));"
   ]
  },
  {
   "cell_type": "markdown",
   "metadata": {},
   "source": [
    " 4) Calcula las anomalías WRT de esta climatología para todos los parámetros."
   ]
  },
  {
   "cell_type": "code",
   "execution_count": 31,
   "metadata": {},
   "outputs": [
    {
     "data": {
      "text/html": [
       "<div>\n",
       "<style scoped>\n",
       "    .dataframe tbody tr th:only-of-type {\n",
       "        vertical-align: middle;\n",
       "    }\n",
       "\n",
       "    .dataframe tbody tr th {\n",
       "        vertical-align: top;\n",
       "    }\n",
       "\n",
       "    .dataframe thead th {\n",
       "        text-align: right;\n",
       "    }\n",
       "</style>\n",
       "<table border=\"1\" class=\"dataframe\">\n",
       "  <thead>\n",
       "    <tr style=\"text-align: right;\">\n",
       "      <th></th>\n",
       "      <th>rain</th>\n",
       "      <th>tmax</th>\n",
       "      <th>tmin</th>\n",
       "      <th>tmin_trnd</th>\n",
       "    </tr>\n",
       "    <tr>\n",
       "      <th>Unnamed: 0</th>\n",
       "      <th></th>\n",
       "      <th></th>\n",
       "      <th></th>\n",
       "      <th></th>\n",
       "    </tr>\n",
       "  </thead>\n",
       "  <tbody>\n",
       "    <tr>\n",
       "      <th>1981-01-01 13:00:00</th>\n",
       "      <td>-12.238946</td>\n",
       "      <td>3.09666</td>\n",
       "      <td>2.592444</td>\n",
       "      <td>NaN</td>\n",
       "    </tr>\n",
       "    <tr>\n",
       "      <th>1981-01-02 13:00:00</th>\n",
       "      <td>7.261054</td>\n",
       "      <td>-1.70334</td>\n",
       "      <td>6.492444</td>\n",
       "      <td>NaN</td>\n",
       "    </tr>\n",
       "    <tr>\n",
       "      <th>1981-01-03 13:00:00</th>\n",
       "      <td>-12.238946</td>\n",
       "      <td>7.69666</td>\n",
       "      <td>4.292444</td>\n",
       "      <td>NaN</td>\n",
       "    </tr>\n",
       "    <tr>\n",
       "      <th>1981-01-04 13:00:00</th>\n",
       "      <td>47.661054</td>\n",
       "      <td>4.19666</td>\n",
       "      <td>3.392444</td>\n",
       "      <td>NaN</td>\n",
       "    </tr>\n",
       "    <tr>\n",
       "      <th>1981-01-05 13:00:00</th>\n",
       "      <td>12.161054</td>\n",
       "      <td>-2.10334</td>\n",
       "      <td>2.192444</td>\n",
       "      <td>NaN</td>\n",
       "    </tr>\n",
       "  </tbody>\n",
       "</table>\n",
       "</div>"
      ],
      "text/plain": [
       "                          rain     tmax      tmin  tmin_trnd\n",
       "Unnamed: 0                                                  \n",
       "1981-01-01 13:00:00 -12.238946  3.09666  2.592444        NaN\n",
       "1981-01-02 13:00:00   7.261054 -1.70334  6.492444        NaN\n",
       "1981-01-03 13:00:00 -12.238946  7.69666  4.292444        NaN\n",
       "1981-01-04 13:00:00  47.661054  4.19666  3.392444        NaN\n",
       "1981-01-05 13:00:00  12.161054 -2.10334  2.192444        NaN"
      ]
     },
     "execution_count": 31,
     "metadata": {},
     "output_type": "execute_result"
    }
   ],
   "source": [
    "def anomalias(x): \n",
    "    z = x - datos[(datos.index.year >=1981) & (datos.index.year<= 2000)].mean()\n",
    "    return z\n",
    "anms = filtro.groupby(filtro.index.month).apply(anomalias)\n",
    "anms.head()"
   ]
  },
  {
   "cell_type": "markdown",
   "metadata": {},
   "source": [
    "5) Crea las series de tiempo de temperatura mínima y máxima."
   ]
  },
  {
   "cell_type": "code",
   "execution_count": 29,
   "metadata": {},
   "outputs": [
    {
     "data": {
      "text/plain": [
       "<matplotlib.axes._subplots.AxesSubplot at 0xc3d1828>"
      ]
     },
     "execution_count": 29,
     "metadata": {},
     "output_type": "execute_result"
    },
    {
     "data": {
      "image/png": "[encoded data removed]",
      "text/plain": [
       "<Figure size 432x288 with 1 Axes>"
      ]
     },
     "metadata": {},
     "output_type": "display_data"
    }
   ],
   "source": [
    "c_tmin.plot(title = 'Min. Temp. time series 1981-2000')"
   ]
  },
  {
   "cell_type": "code",
   "execution_count": 28,
   "metadata": {},
   "outputs": [
    {
     "data": {
      "text/plain": [
       "<matplotlib.axes._subplots.AxesSubplot at 0xbe669b0>"
      ]
     },
     "execution_count": 28,
     "metadata": {},
     "output_type": "execute_result"
    },
    {
     "data": {
      "image/png": "[encoded data removed]",
      "text/plain": [
       "<Figure size 432x288 with 1 Axes>"
      ]
     },
     "metadata": {},
     "output_type": "display_data"
    }
   ],
   "source": [
    "c_tmax.plot(title = 'Min. Temp. time series 1981-2000')"
   ]
  },
  {
   "cell_type": "markdown",
   "metadata": {},
   "source": [
    "6 y 7) Utilizando Scipy calcular y plotear la tendencia de los datos de temperatura."
   ]
  },
  {
   "cell_type": "markdown",
   "metadata": {},
   "source": [
    "Para este caso los pasos que deben seguirse son los siguientes:\n",
    "1) Crear un arreglo de los valores que vas a graficarse mediante np.linspace que devuelve números espaciados uniformemente en un intervalo específico o también utilizando np.array.\n",
    "2) Se usa stats.linregress para calcular una regresión lineal, que devolverá valores de los siguientes parámetros a-slope:pendiente de la regresión lineal, b-intercept: es la intersección de la línea de regresión, c-r_value: coeficiente de correlación, p_value:valor p de dos lados para una prueba cuya hipótesis nula es que la pendiente es cero, utilizando la prueba de Wald con la distribución t del estadístico de prueba y std_err: error estandar.\n",
    "3) Graficar utilizando Plot.\n"
   ]
  },
  {
   "cell_type": "code",
   "execution_count": 47,
   "metadata": {},
   "outputs": [
    {
     "data": {
      "text/plain": [
       "<matplotlib.axes._subplots.AxesSubplot at 0x10702ba8>"
      ]
     },
     "execution_count": 47,
     "metadata": {},
     "output_type": "execute_result"
    },
    {
     "data": {
      "image/png": "[encoded data removed]",
      "text/plain": [
       "<Figure size 432x288 with 1 Axes>"
      ]
     },
     "metadata": {},
     "output_type": "display_data"
    }
   ],
   "source": [
    "from scipy import stats\n",
    "x = np.linspace(filtro.index.day.min(),filtro.index.day.max(),len(filtro.tmin))\n",
    "slope, intercept, r_value, p_value, std_err = stats.linregress(x,filtro.tmin)\n",
    "y=filtro.tmin\n",
    "y1 = x*slope + intercept\n",
    "filtro['tmin_trnd']=y1\n",
    "f, ax = plt.subplots()\n",
    "y.plot(ax=ax,title = 'Tendencia temperatura minima')\n",
    "filtro.loc[:,'tmin_trnd'].plot(ax=ax)"
   ]
  },
  {
   "cell_type": "code",
   "execution_count": 50,
   "metadata": {},
   "outputs": [
    {
     "data": {
      "text/plain": [
       "<matplotlib.axes._subplots.AxesSubplot at 0xef6a940>"
      ]
     },
     "execution_count": 50,
     "metadata": {},
     "output_type": "execute_result"
    },
    {
     "data": {
      "image/png": "[encoded data removed]",
      "text/plain": [
       "<Figure size 432x288 with 1 Axes>"
      ]
     },
     "metadata": {},
     "output_type": "display_data"
    }
   ],
   "source": [
    "from scipy import stats\n",
    "x = np.linspace(filtro.index.day.min(),filtro.index.day.max(),len(filtro.tmax))\n",
    "slope, intercept, r_value, p_value, std_err = stats.linregress(x,filtro.tmax)\n",
    "y=filtro.tmax\n",
    "y1 = x*slope + intercept\n",
    "filtro['tmax_trnd']=y1\n",
    "f, ax = plt.subplots()\n",
    "y.plot(ax=ax,title = 'Tendencia temperatura maxima')\n",
    "filtro.loc[:,'tmax_trnd'].plot(ax=ax)\n"
   ]
  },
  {
   "cell_type": "code",
   "execution_count": null,
   "metadata": {},
   "outputs": [],
   "source": []
  }
 ],
 "metadata": {
  "kernelspec": {
   "display_name": "Python 2",
   "language": "python",
   "name": "python2"
  },
  "language_info": {
   "codemirror_mode": {
    "name": "ipython",
    "version": 2
   },
   "file_extension": ".py",
   "mimetype": "text/x-python",
   "name": "python",
   "nbconvert_exporter": "python",
   "pygments_lexer": "ipython2",
   "version": "2.7.15"
  }
 },
 "nbformat": 4,
 "nbformat_minor": 2
}
