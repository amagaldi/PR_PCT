{
 "cells": [
  {
   "cell_type": "code",
   "execution_count": 1,
   "metadata": {},
   "outputs": [
    {
     "name": "stdout",
     "output_type": "stream",
     "text": [
      "Iteracion No: 1\n",
      "\n",
      "Valor de a:-258.333 Valor de b: 341.667 Valor de la raiz: 244.004\n",
      "\n",
      "Iteracion No: 2\n",
      "\n",
      "Valor de a:-19.545 Valor de b: 224.459 Valor de la raiz: 223.608\n",
      "\n",
      "Iteracion No: 3\n",
      "\n",
      "Valor de a:-0.002 Valor de b: 223.607 Valor de la raiz: 223.607\n",
      "\n",
      "Resultado: 223.607\n"
     ]
    }
   ],
   "source": [
    "#Importar librería para decimales\n",
    "from __future__ import division\n",
    "\n",
    "#Definir la función y los parámetros de entrada\n",
    "def Bak(s,x):\n",
    "\n",
    "#Determinar el margen de error en la aproximación    \n",
    "    eps=1e-20\n",
    "    \n",
    "#Añadir un contador de iteraciones    \n",
    "    i=0\n",
    "    \n",
    "#Elegir una estructura de control para la función        \n",
    "    while(x*x - s) > eps:\n",
    "        \n",
    "#Establecer todas las ecuaciones necesarias para calcular la raíz        \n",
    "        a = (s-x*x)/(2*x)\n",
    "        b = x+a\n",
    "        x = (b)-(a*a/(2*(x+a)))  \n",
    "        i += 1\n",
    "        \n",
    "#Imprimir 'texto' concatenado con el valor de a y lo mismo para b y x.\n",
    "        print \"Iteracion No: \"+str(i)+\"\\n\"\n",
    "        print (\"Valor de a:\"+ str(round(a,3)) +\" Valor de b: \"+ str(round(b,3)) +\" Valor de la raiz: \"+str(round(x,3))+\"\\n\")\n",
    "    \n",
    "    return round(x,3)\n",
    "\n",
    "#Asignar valores a los parámetros de entrada para calcular el resultado\n",
    "print (\"Resultado: \"+str(Bak(50000,600)))\n"
   ]
  },
  {
   "cell_type": "code",
   "execution_count": null,
   "metadata": {},
   "outputs": [],
   "source": []
  }
 ],
 "metadata": {
  "kernelspec": {
   "display_name": "Python 2",
   "language": "python",
   "name": "python2"
  },
  "language_info": {
   "codemirror_mode": {
    "name": "ipython",
    "version": 2
   },
   "file_extension": ".py",
   "mimetype": "text/x-python",
   "name": "python",
   "nbconvert_exporter": "python",
   "pygments_lexer": "ipython2",
   "version": "2.7.15"
  }
 },
 "nbformat": 4,
 "nbformat_minor": 2
}
