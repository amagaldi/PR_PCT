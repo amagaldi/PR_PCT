{
 "cells": [
  {
   "cell_type": "markdown",
   "metadata": {},
   "source": [
    "# Tarea 2 Percepción Remota\n",
    "\n",
    "## Carlos Herrera\n",
    "\n"
   ]
  },
  {
   "cell_type": "markdown",
   "metadata": {},
   "source": [
    "## 1) definir funcion suma de los primeros n numeros naturales"
   ]
  },
  {
   "cell_type": "markdown",
   "metadata": {},
   "source": [
    "### Opción larga: "
   ]
  },
  {
   "cell_type": "code",
   "execution_count": 3,
   "metadata": {},
   "outputs": [],
   "source": [
    "def SumaAcu(n):  # Versión larga\n",
    "    assert (n >= 0 and n % 1 == 0 ), \"Ingrese un número entero mayor o igual que 0\"\n",
    "    suma = 0\n",
    "    sumador = 1\n",
    "    while sumador <= n:\n",
    "        suma = suma + sumador\n",
    "        sumador = sumador + 1\n",
    "        print(suma)\n",
    "    return(suma)"
   ]
  },
  {
   "cell_type": "code",
   "execution_count": 4,
   "metadata": {},
   "outputs": [
    {
     "name": "stdout",
     "output_type": "stream",
     "text": [
      "1\n",
      "3\n",
      "6\n",
      "10\n",
      "15\n",
      "21\n",
      "28\n",
      "36\n",
      "45\n",
      "55\n"
     ]
    },
    {
     "data": {
      "text/plain": [
       "55"
      ]
     },
     "execution_count": 4,
     "metadata": {},
     "output_type": "execute_result"
    }
   ],
   "source": [
    "SumaAcu(10)"
   ]
  },
  {
   "cell_type": "markdown",
   "metadata": {},
   "source": [
    "### Con algoritmo de Gauss"
   ]
  },
  {
   "cell_type": "code",
   "execution_count": 58,
   "metadata": {},
   "outputs": [],
   "source": [
    "def SumaGauss(n):\n",
    "    assert (n >= 0 and n % 1 == 0 ), \"Ingrese un número entero mayor o igual que 0\"\n",
    "    suma = (n+1)*(n/2)\n",
    "    return suma"
   ]
  },
  {
   "cell_type": "code",
   "execution_count": 60,
   "metadata": {},
   "outputs": [
    {
     "data": {
      "text/plain": [
       "4950.0"
      ]
     },
     "execution_count": 60,
     "metadata": {},
     "output_type": "execute_result"
    }
   ],
   "source": [
    "SumaGauss(99)"
   ]
  },
  {
   "cell_type": "markdown",
   "metadata": {},
   "source": [
    "## 2) Algoritmo para calcular Raíz Cuadrada "
   ]
  },
  {
   "cell_type": "markdown",
   "metadata": {},
   "source": [
    "### EL método  babilónico: "
   ]
  },
  {
   "cell_type": "markdown",
   "metadata": {},
   "source": [
    "$x_{n+1} = \\frac{1}{2}(x_n + \\frac{y}{x_n})$"
   ]
  },
  {
   "cell_type": "code",
   "execution_count": 64,
   "metadata": {},
   "outputs": [],
   "source": [
    "def raizBabib(y):\n",
    "    \"\"\"\n",
    "    Calcula la raiz cuadrada de un numero con el algoritmo Babilonico\n",
    "    \"\"\"\n",
    "    x0 = y\n",
    "    x = x0 \n",
    "    eps = 1e-10  # Para truncar\n",
    "    \n",
    "    while abs(x*x - y) > eps:\n",
    "        x = 0.5 * (x + y/x)\n",
    "        \n",
    "    return x"
   ]
  },
  {
   "cell_type": "code",
   "execution_count": 68,
   "metadata": {},
   "outputs": [
    {
     "data": {
      "text/plain": [
       "10.04987562112089"
      ]
     },
     "execution_count": 68,
     "metadata": {},
     "output_type": "execute_result"
    }
   ],
   "source": [
    "    raizBabib(101.)"
   ]
  },
  {
   "cell_type": "markdown",
   "metadata": {},
   "source": [
    "### Con algoritmo de tarea"
   ]
  },
  {
   "cell_type": "markdown",
   "metadata": {},
   "source": [
    "$x_{+1} = (x_{n} + a_{n}) - \\frac{a_{n}^{n}}{2(x_{n} + a_{n} )}$\n",
    "\n",
    "Donde: \n",
    "\n",
    "$ a_{n} =  \\frac{S - x_{n}^{2} }{2x_{n}}  $\n",
    "\n",
    "$  b_{n} = x_{n} + a_{n} $"
   ]
  },
  {
   "cell_type": "code",
   "execution_count": 4,
   "metadata": {},
   "outputs": [],
   "source": [
    "def raizTarea(S):\n",
    "    x0 = S\n",
    "    x  = x0\n",
    "    eps = 1e-5\n",
    "    \n",
    "    while abs(x*x - S) > eps:\n",
    "        \n",
    "        an = (S - x**2) / (2*x)\n",
    "        bn = x + an\n",
    "        x = (x + an) - ((an**2) / (2*(x - an))  )\n",
    "    return x"
   ]
  },
  {
   "cell_type": "code",
   "execution_count": 5,
   "metadata": {},
   "outputs": [
    {
     "data": {
      "text/plain": [
       "3.000000000000078"
      ]
     },
     "execution_count": 5,
     "metadata": {},
     "output_type": "execute_result"
    }
   ],
   "source": [
    "raizTarea(9)"
   ]
  }
 ],
 "metadata": {
  "kernelspec": {
   "display_name": "Python 3",
   "language": "python",
   "name": "python3"
  },
  "language_info": {
   "codemirror_mode": {
    "name": "ipython",
    "version": 3
   },
   "file_extension": ".py",
   "mimetype": "text/x-python",
   "name": "python",
   "nbconvert_exporter": "python",
   "pygments_lexer": "ipython3",
   "version": "3.6.5"
  }
 },
 "nbformat": 4,
 "nbformat_minor": 2
}
