{
 "cells": [
  {
   "cell_type": "markdown",
   "metadata": {},
   "source": [
    "## Explicacion if not"
   ]
  },
  {
   "cell_type": "markdown",
   "metadata": {},
   "source": [
    "if not, a diferencia de if, comienza con su valor booleano = False. Por tanto es igual a decir que el valor booleano de if no es verdadero, como se muestra con el siguiente ejemplo:"
   ]
  },
  {
   "cell_type": "code",
   "execution_count": 44,
   "metadata": {},
   "outputs": [
    {
     "name": "stdout",
     "output_type": "stream",
     "text": [
      "n no es mayor que 10.\n",
      "n no es mayor que 10 \n"
     ]
    }
   ],
   "source": [
    "n = 5\n",
    "\n",
    "if not (n > 10):\n",
    "    print(\"n no es mayor que 10.\") #n es menor\n",
    "else:\n",
    "    print(\"n es mayor que  10.\")\n",
    "\n",
    "if (n >10) != True:\n",
    "    print(\"n no es mayor que 10 \")\n",
    "else:\n",
    "    print(\"n es mayor que  10.\")"
   ]
  },
  {
   "cell_type": "markdown",
   "metadata": {},
   "source": [
    "## Suma de los primeros N numeros"
   ]
  },
  {
   "cell_type": "code",
   "execution_count": 33,
   "metadata": {},
   "outputs": [
    {
     "name": "stdout",
     "output_type": "stream",
     "text": [
      "5050.0\n",
      "5050\n"
     ]
    }
   ],
   "source": [
    "#version elegante, usando la formula de Gauss:\n",
    "def nat(n):\n",
    "    cumsum = (n*(n+1))/2.\n",
    "    return cumsum\n",
    "a = nat(100)\n",
    "print a\n",
    "\n",
    "#version usando python:\n",
    "import numpy as np\n",
    "def naturales(n):\n",
    "    b = [n for n in range(n+1)] \n",
    "    cumsum = np.cumsum(b)\n",
    "    return cumsum[-1]\n",
    "b= naturales(100)\n",
    "print b"
   ]
  },
  {
   "cell_type": "markdown",
   "metadata": {},
   "source": [
    "## El metodo Babilonico"
   ]
  },
  {
   "cell_type": "code",
   "execution_count": 4,
   "metadata": {},
   "outputs": [
    {
     "name": "stdout",
     "output_type": "stream",
     "text": [
      "12.5299640861\n"
     ]
    }
   ],
   "source": [
    "def babilonia(s):\n",
    "    raiz = s\n",
    "    t=1e-10\n",
    "    while raiz != t:\n",
    "        t = raiz\n",
    "        raiz = 0.5 * ((s/raiz) + raiz)\n",
    "    return raiz\n",
    "a = babilonia (157.0)\n",
    "print a"
   ]
  },
  {
   "cell_type": "code",
   "execution_count": null,
   "metadata": {},
   "outputs": [],
   "source": []
  },
  {
   "cell_type": "code",
   "execution_count": null,
   "metadata": {},
   "outputs": [],
   "source": []
  }
 ],
 "metadata": {
  "kernelspec": {
   "display_name": "Python 2",
   "language": "python",
   "name": "python2"
  },
  "language_info": {
   "codemirror_mode": {
    "name": "ipython",
    "version": 2
   },
   "file_extension": ".py",
   "mimetype": "text/x-python",
   "name": "python",
   "nbconvert_exporter": "python",
   "pygments_lexer": "ipython2",
   "version": "2.7.15"
  }
 },
 "nbformat": 4,
 "nbformat_minor": 2
}
