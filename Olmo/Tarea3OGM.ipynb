{
 "cells": [
  {
   "cell_type": "markdown",
   "metadata": {},
   "source": [
    "## Tarea 3\n",
    "### Ejercicios del notebook 11"
   ]
  },
  {
   "cell_type": "markdown",
   "metadata": {},
   "source": [
    "1.Read the data in a Pandas DataFrame, correctly setting up the index as a datetime index "
   ]
  },
  {
   "cell_type": "code",
   "execution_count": 24,
   "metadata": {},
   "outputs": [
    {
     "data": {
      "text/html": [
       "<div>\n",
       "<style scoped>\n",
       "    .dataframe tbody tr th:only-of-type {\n",
       "        vertical-align: middle;\n",
       "    }\n",
       "\n",
       "    .dataframe tbody tr th {\n",
       "        vertical-align: top;\n",
       "    }\n",
       "\n",
       "    .dataframe thead th {\n",
       "        text-align: right;\n",
       "    }\n",
       "</style>\n",
       "<table border=\"1\" class=\"dataframe\">\n",
       "  <thead>\n",
       "    <tr style=\"text-align: right;\">\n",
       "      <th></th>\n",
       "      <th>rain</th>\n",
       "      <th>tmax</th>\n",
       "      <th>tmin</th>\n",
       "    </tr>\n",
       "    <tr>\n",
       "      <th>Time</th>\n",
       "      <th></th>\n",
       "      <th></th>\n",
       "      <th></th>\n",
       "    </tr>\n",
       "  </thead>\n",
       "  <tbody>\n",
       "    <tr>\n",
       "      <th>1972-01-01 12:00:00</th>\n",
       "      <td>31.6</td>\n",
       "      <td>16.8</td>\n",
       "      <td>13.5</td>\n",
       "    </tr>\n",
       "    <tr>\n",
       "      <th>1972-01-02 12:00:00</th>\n",
       "      <td>28.3</td>\n",
       "      <td>20.6</td>\n",
       "      <td>8.8</td>\n",
       "    </tr>\n",
       "    <tr>\n",
       "      <th>1972-01-03 12:00:00</th>\n",
       "      <td>10.7</td>\n",
       "      <td>15.8</td>\n",
       "      <td>8.3</td>\n",
       "    </tr>\n",
       "    <tr>\n",
       "      <th>1972-01-04 12:00:00</th>\n",
       "      <td>11.3</td>\n",
       "      <td>12.9</td>\n",
       "      <td>7.7</td>\n",
       "    </tr>\n",
       "    <tr>\n",
       "      <th>1972-01-05 12:00:00</th>\n",
       "      <td>0.0</td>\n",
       "      <td>13.2</td>\n",
       "      <td>7.0</td>\n",
       "    </tr>\n",
       "  </tbody>\n",
       "</table>\n",
       "</div>"
      ],
      "text/plain": [
       "                     rain  tmax  tmin\n",
       "Time                                 \n",
       "1972-01-01 12:00:00  31.6  16.8  13.5\n",
       "1972-01-02 12:00:00  28.3  20.6   8.8\n",
       "1972-01-03 12:00:00  10.7  15.8   8.3\n",
       "1972-01-04 12:00:00  11.3  12.9   7.7\n",
       "1972-01-05 12:00:00   0.0  13.2   7.0"
      ]
     },
     "execution_count": 24,
     "metadata": {},
     "output_type": "execute_result"
    }
   ],
   "source": [
    "import pandas as pd\n",
    "import numpy as np\n",
    "\n",
    "ruta = '/home/olmo/Documents/Percepcion Remota/python clase/data/Daily_clim_data_Auckland.csv'\n",
    "col_names = ['Time','rain','tmax','tmin']\n",
    "df = pd.read_csv(ruta,sep=',', names=col_names, header =0)\n",
    "df['Time'] = pd.to_datetime(df['Time'], dayfirst = False)            \n",
    "df = df.set_index([('Time')]) \n",
    "df.head()"
   ]
  },
  {
   "cell_type": "markdown",
   "metadata": {},
   "source": [
    "2. Calculate monthly means for the temperature data, monthly totals for rainfall "
   ]
  },
  {
   "cell_type": "code",
   "execution_count": 222,
   "metadata": {},
   "outputs": [
    {
     "name": "stdout",
     "output_type": "stream",
     "text": [
      "         rain       tmax      tmin\n",
      "Time                              \n",
      "1     18107.9  17.022350  9.626190\n",
      "2     12982.7  17.337152  9.950716\n",
      "3     15265.7  15.704224  9.054762\n",
      "4     15075.0  13.031032  7.487540\n",
      "5     16431.5  10.321352  5.565975\n",
      "6     13157.0   8.092698  3.651429\n",
      "7     12116.7   7.713594  3.240783\n",
      "8     11891.7   8.815131  3.437711\n",
      "9     14764.9  10.677302  4.513968\n",
      "10    16989.3  12.387097  5.522427\n",
      "11    14102.2  14.079127  6.733016\n",
      "12    16302.2  15.805376  8.478418\n"
     ]
    }
   ],
   "source": [
    "#Si es la media de cada mes para todos los años\n",
    "month_m=df.resample('M').mean()\n",
    "month_m\n",
    "\n",
    "# Si es la media de cada mes en todos los años:\n",
    "month_mean=df.groupby(df.index.month).mean()\n",
    "month_mean['rain'] = df['rain'].groupby(df.index.month).sum() #total del mes\n",
    "print month_mean"
   ]
  },
  {
   "cell_type": "markdown",
   "metadata": {},
   "source": [
    "3. Calculate and plot a climatology over the period 1981 - 2000 for all parameters "
   ]
  },
  {
   "cell_type": "code",
   "execution_count": 225,
   "metadata": {},
   "outputs": [
    {
     "data": {
      "text/plain": [
       "Text(0.5,0.98,'Auckland climatology 1981-2000')"
      ]
     },
     "execution_count": 225,
     "metadata": {},
     "output_type": "execute_result"
    },
    {
     "data": {
      "image/png": "[encoded data removed]",
      "text/plain": [
       "<Figure size 432x288 with 3 Axes>"
      ]
     },
     "metadata": {},
     "output_type": "display_data"
    }
   ],
   "source": [
    "from matplotlib import pyplot as plt \n",
    "\n",
    "#Tomar el periodo deseado:\n",
    "subset =df.loc[(df.index.year >=1981) & (df.index.year<= 2000)]\n",
    "\n",
    "#Agruparlos por mes y sacar la media de cada mes:\n",
    "groups = subset.groupby(subset.index.month)\n",
    "climatology = groups.mean()\n",
    "\n",
    "#Graficar:\n",
    "fig,ax = plt.subplots(ncols=1,nrows=3, sharex=True, sharey=False,constrained_layout=True)\n",
    "ax[0].plot(climatology.rain,'r') \n",
    "ax[0].set_ylabel('Rain [mm]')\n",
    "ax[1].plot(climatology.tmin,'b') \n",
    "ax[1].set_ylabel('T [$^\\circ C$]')\n",
    "ax[2].plot(climatology.tmax,'k') \n",
    "ax[2].set_xlabel('t (months)')\n",
    "ax[2].set_ylabel('T [$^\\circ C$]')\n",
    "plt.suptitle('Auckland climatology 1981-2000')"
   ]
  },
  {
   "cell_type": "markdown",
   "metadata": {},
   "source": [
    "4. Calculate the anomalies WRT this climatology for all parameters "
   ]
  },
  {
   "cell_type": "code",
   "execution_count": 147,
   "metadata": {},
   "outputs": [
    {
     "data": {
      "text/html": [
       "<div>\n",
       "<style scoped>\n",
       "    .dataframe tbody tr th:only-of-type {\n",
       "        vertical-align: middle;\n",
       "    }\n",
       "\n",
       "    .dataframe tbody tr th {\n",
       "        vertical-align: top;\n",
       "    }\n",
       "\n",
       "    .dataframe thead th {\n",
       "        text-align: right;\n",
       "    }\n",
       "</style>\n",
       "<table border=\"1\" class=\"dataframe\">\n",
       "  <thead>\n",
       "    <tr style=\"text-align: right;\">\n",
       "      <th></th>\n",
       "      <th>rain</th>\n",
       "      <th>tmax</th>\n",
       "      <th>tmin</th>\n",
       "    </tr>\n",
       "    <tr>\n",
       "      <th>Time</th>\n",
       "      <th></th>\n",
       "      <th></th>\n",
       "      <th></th>\n",
       "    </tr>\n",
       "  </thead>\n",
       "  <tbody>\n",
       "    <tr>\n",
       "      <th>1981-01-01 13:00:00</th>\n",
       "      <td>-12.238946</td>\n",
       "      <td>3.09666</td>\n",
       "      <td>2.592444</td>\n",
       "    </tr>\n",
       "    <tr>\n",
       "      <th>1981-01-02 13:00:00</th>\n",
       "      <td>7.261054</td>\n",
       "      <td>-1.70334</td>\n",
       "      <td>6.492444</td>\n",
       "    </tr>\n",
       "    <tr>\n",
       "      <th>1981-01-03 13:00:00</th>\n",
       "      <td>-12.238946</td>\n",
       "      <td>7.69666</td>\n",
       "      <td>4.292444</td>\n",
       "    </tr>\n",
       "    <tr>\n",
       "      <th>1981-01-04 13:00:00</th>\n",
       "      <td>47.661054</td>\n",
       "      <td>4.19666</td>\n",
       "      <td>3.392444</td>\n",
       "    </tr>\n",
       "    <tr>\n",
       "      <th>1981-01-05 13:00:00</th>\n",
       "      <td>12.161054</td>\n",
       "      <td>-2.10334</td>\n",
       "      <td>2.192444</td>\n",
       "    </tr>\n",
       "  </tbody>\n",
       "</table>\n",
       "</div>"
      ],
      "text/plain": [
       "                          rain     tmax      tmin\n",
       "Time                                             \n",
       "1981-01-01 13:00:00 -12.238946  3.09666  2.592444\n",
       "1981-01-02 13:00:00   7.261054 -1.70334  6.492444\n",
       "1981-01-03 13:00:00 -12.238946  7.69666  4.292444\n",
       "1981-01-04 13:00:00  47.661054  4.19666  3.392444\n",
       "1981-01-05 13:00:00  12.161054 -2.10334  2.192444"
      ]
     },
     "execution_count": 147,
     "metadata": {},
     "output_type": "execute_result"
    }
   ],
   "source": [
    "def demean(x): \n",
    "    z = x - df[(df.index.year >=1981) & (df.index.year<= 2000)].mean()\n",
    "    return z\n",
    "anoms = subset.groupby(subset.index.month).apply(demean)\n",
    "anoms.head()"
   ]
  },
  {
   "cell_type": "markdown",
   "metadata": {},
   "source": [
    "5. Plot the time-series of minimum and maximum temperature \n",
    "6. Dig into the Scipy documentation to find how to calculate the linear trend over the period for the temperature data \n",
    "7. Calculate and plot the trend "
   ]
  },
  {
   "cell_type": "code",
   "execution_count": 219,
   "metadata": {},
   "outputs": [
    {
     "data": {
      "image/png": "[encoded data removed]",
      "text/plain": [
       "<Figure size 432x288 with 2 Axes>"
      ]
     },
     "metadata": {},
     "output_type": "display_data"
    }
   ],
   "source": [
    "from scipy import stats\n",
    "\n",
    "#Es necesario crear un array de numeros, no fechas:\n",
    "x = np.linspace(df.index.day.min(),df.index.day.max(),len(df.tmin))\n",
    "\n",
    "#Este es el orden en que la funcion devuelve los parametros:\n",
    "slope, intercept, r_value, p_value, std_err = stats.linregress(x,df.tmin)\n",
    "\n",
    "#Esta es la ecuacion de la recta a graficar:\n",
    "y1= intercept + (slope*y)\n",
    "\n",
    "fig,ax = plt.subplots(ncols=1,nrows=2, sharex=True, sharey=False,constrained_layout=True)\n",
    "ax[0].plot(df.tmin,'b',ms=2) \n",
    "ax[0].plot(df.index,y1,'r')\n",
    "ax[0].set_ylabel('Tmin [$^\\circ C$]')\n",
    "\n",
    "#Lo mismo pero para Tmax:\n",
    "trend_vals = stats.linregress(x,df.tmax)\n",
    "y3= trend_vals[1] + (trend_vals[0]*y2)\n",
    "ax[1].plot(df.tmax,'k') \n",
    "ax[1].plot(df.index,y3,'r')\n",
    "ax[1].set_xlabel('t (months)')\n",
    "ax[1].set_ylabel('Tmax [$^\\circ C$]')\n",
    "plt.suptitle('Auckland min and max Temperature 1973-2013')\n",
    "plt.savefig('t')"
   ]
  }
 ],
 "metadata": {
  "kernelspec": {
   "display_name": "Python 2",
   "language": "python",
   "name": "python2"
  },
  "language_info": {
   "codemirror_mode": {
    "name": "ipython",
    "version": 2
   },
   "file_extension": ".py",
   "mimetype": "text/x-python",
   "name": "python",
   "nbconvert_exporter": "python",
   "pygments_lexer": "ipython2",
   "version": "2.7.15"
  }
 },
 "nbformat": 4,
 "nbformat_minor": 2
}
