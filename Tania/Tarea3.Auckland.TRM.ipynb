{
 "cells": [
  {
   "cell_type": "markdown",
   "metadata": {},
   "source": [
    "The file Daily_clim_data_Auckland.csv in the data directory (./data/Daily_clim_data_Auckland.csv) contains daily values for rainfall, minimum and maximum temperatures for Auckland from 1972 to now.\n",
    "\n",
    "1.- Read the data in a Pandas DataFrame, correctly setting up the index as a datetime index\n",
    "2.- calculate monthly means for the temperature data, monthly totals for rainfall\n",
    "3.- calculate and plot a climatology over the period 1981 - 2000 for all parameters\n",
    "4.- calculate the anomalies WRT this climatology for all parameters\n",
    "5.- plots the time-series of minimum and maximum temperature\n",
    "6.- dig into the Scipy documentation to find how to calculate the linear trend over the period for the temperature data\n",
    "7.- calculate and plot the trend"
   ]
  },
  {
   "cell_type": "code",
   "execution_count": 1,
   "metadata": {},
   "outputs": [],
   "source": [
    "import pandas as pd\n",
    "import matplotlib as mpl\n",
    "import matplotlib.pyplot as plt\n",
    "import datetime as dt\n",
    "\n",
    "mpl.rc('savefig', dpi=200)\n",
    "plt.style.use('ggplot')\n",
    "plt.rcParams['xtick.minor.size'] = 0\n",
    "plt.rcParams['ytick.minor.size'] = 0"
   ]
  },
  {
   "cell_type": "code",
   "execution_count": 2,
   "metadata": {},
   "outputs": [],
   "source": [
    "dailyclim= pd.read_csv('Daily_clim_data_Auckland.csv')"
   ]
  },
  {
   "cell_type": "code",
   "execution_count": 3,
   "metadata": {},
   "outputs": [
    {
     "data": {
      "text/html": [
       "<div>\n",
       "<style scoped>\n",
       "    .dataframe tbody tr th:only-of-type {\n",
       "        vertical-align: middle;\n",
       "    }\n",
       "\n",
       "    .dataframe tbody tr th {\n",
       "        vertical-align: top;\n",
       "    }\n",
       "\n",
       "    .dataframe thead th {\n",
       "        text-align: right;\n",
       "    }\n",
       "</style>\n",
       "<table border=\"1\" class=\"dataframe\">\n",
       "  <thead>\n",
       "    <tr style=\"text-align: right;\">\n",
       "      <th></th>\n",
       "      <th>rain</th>\n",
       "      <th>tmax</th>\n",
       "      <th>tmin</th>\n",
       "    </tr>\n",
       "  </thead>\n",
       "  <tbody>\n",
       "    <tr>\n",
       "      <th>count</th>\n",
       "      <td>15341.000000</td>\n",
       "      <td>15341.000000</td>\n",
       "      <td>15341.000000</td>\n",
       "    </tr>\n",
       "    <tr>\n",
       "      <th>mean</th>\n",
       "      <td>11.549886</td>\n",
       "      <td>12.558738</td>\n",
       "      <td>6.421472</td>\n",
       "    </tr>\n",
       "    <tr>\n",
       "      <th>std</th>\n",
       "      <td>19.577677</td>\n",
       "      <td>4.507271</td>\n",
       "      <td>3.665703</td>\n",
       "    </tr>\n",
       "    <tr>\n",
       "      <th>min</th>\n",
       "      <td>0.000000</td>\n",
       "      <td>-2.000000</td>\n",
       "      <td>-7.800000</td>\n",
       "    </tr>\n",
       "    <tr>\n",
       "      <th>25%</th>\n",
       "      <td>0.000000</td>\n",
       "      <td>9.400000</td>\n",
       "      <td>3.800000</td>\n",
       "    </tr>\n",
       "    <tr>\n",
       "      <th>50%</th>\n",
       "      <td>2.400000</td>\n",
       "      <td>12.300000</td>\n",
       "      <td>6.500000</td>\n",
       "    </tr>\n",
       "    <tr>\n",
       "      <th>75%</th>\n",
       "      <td>15.700000</td>\n",
       "      <td>15.600000</td>\n",
       "      <td>9.000000</td>\n",
       "    </tr>\n",
       "    <tr>\n",
       "      <th>max</th>\n",
       "      <td>258.600000</td>\n",
       "      <td>30.200000</td>\n",
       "      <td>19.200000</td>\n",
       "    </tr>\n",
       "  </tbody>\n",
       "</table>\n",
       "</div>"
      ],
      "text/plain": [
       "               rain          tmax          tmin\n",
       "count  15341.000000  15341.000000  15341.000000\n",
       "mean      11.549886     12.558738      6.421472\n",
       "std       19.577677      4.507271      3.665703\n",
       "min        0.000000     -2.000000     -7.800000\n",
       "25%        0.000000      9.400000      3.800000\n",
       "50%        2.400000     12.300000      6.500000\n",
       "75%       15.700000     15.600000      9.000000\n",
       "max      258.600000     30.200000     19.200000"
      ]
     },
     "execution_count": 3,
     "metadata": {},
     "output_type": "execute_result"
    }
   ],
   "source": [
    "dailyclim.describe()"
   ]
  },
  {
   "cell_type": "code",
   "execution_count": 4,
   "metadata": {},
   "outputs": [
    {
     "data": {
      "text/plain": [
       "(15341, 4)"
      ]
     },
     "execution_count": 4,
     "metadata": {},
     "output_type": "execute_result"
    }
   ],
   "source": [
    "dailyclim.shape"
   ]
  },
  {
   "cell_type": "code",
   "execution_count": 5,
   "metadata": {},
   "outputs": [
    {
     "data": {
      "text/html": [
       "<div>\n",
       "<style scoped>\n",
       "    .dataframe tbody tr th:only-of-type {\n",
       "        vertical-align: middle;\n",
       "    }\n",
       "\n",
       "    .dataframe tbody tr th {\n",
       "        vertical-align: top;\n",
       "    }\n",
       "\n",
       "    .dataframe thead th {\n",
       "        text-align: right;\n",
       "    }\n",
       "</style>\n",
       "<table border=\"1\" class=\"dataframe\">\n",
       "  <thead>\n",
       "    <tr style=\"text-align: right;\">\n",
       "      <th></th>\n",
       "      <th>Unnamed: 0</th>\n",
       "      <th>rain</th>\n",
       "      <th>tmax</th>\n",
       "      <th>tmin</th>\n",
       "    </tr>\n",
       "  </thead>\n",
       "  <tbody>\n",
       "    <tr>\n",
       "      <th>0</th>\n",
       "      <td>1972-01-01 12:00:00</td>\n",
       "      <td>31.6</td>\n",
       "      <td>16.8</td>\n",
       "      <td>13.5</td>\n",
       "    </tr>\n",
       "    <tr>\n",
       "      <th>1</th>\n",
       "      <td>1972-01-02 12:00:00</td>\n",
       "      <td>28.3</td>\n",
       "      <td>20.6</td>\n",
       "      <td>8.8</td>\n",
       "    </tr>\n",
       "    <tr>\n",
       "      <th>2</th>\n",
       "      <td>1972-01-03 12:00:00</td>\n",
       "      <td>10.7</td>\n",
       "      <td>15.8</td>\n",
       "      <td>8.3</td>\n",
       "    </tr>\n",
       "    <tr>\n",
       "      <th>3</th>\n",
       "      <td>1972-01-04 12:00:00</td>\n",
       "      <td>11.3</td>\n",
       "      <td>12.9</td>\n",
       "      <td>7.7</td>\n",
       "    </tr>\n",
       "    <tr>\n",
       "      <th>4</th>\n",
       "      <td>1972-01-05 12:00:00</td>\n",
       "      <td>0.0</td>\n",
       "      <td>13.2</td>\n",
       "      <td>7.0</td>\n",
       "    </tr>\n",
       "  </tbody>\n",
       "</table>\n",
       "</div>"
      ],
      "text/plain": [
       "            Unnamed: 0  rain  tmax  tmin\n",
       "0  1972-01-01 12:00:00  31.6  16.8  13.5\n",
       "1  1972-01-02 12:00:00  28.3  20.6   8.8\n",
       "2  1972-01-03 12:00:00  10.7  15.8   8.3\n",
       "3  1972-01-04 12:00:00  11.3  12.9   7.7\n",
       "4  1972-01-05 12:00:00   0.0  13.2   7.0"
      ]
     },
     "execution_count": 5,
     "metadata": {},
     "output_type": "execute_result"
    }
   ],
   "source": [
    "dailyclim.head()"
   ]
  },
  {
   "cell_type": "code",
   "execution_count": 6,
   "metadata": {},
   "outputs": [
    {
     "data": {
      "text/html": [
       "<div>\n",
       "<style scoped>\n",
       "    .dataframe tbody tr th:only-of-type {\n",
       "        vertical-align: middle;\n",
       "    }\n",
       "\n",
       "    .dataframe tbody tr th {\n",
       "        vertical-align: top;\n",
       "    }\n",
       "\n",
       "    .dataframe thead th {\n",
       "        text-align: right;\n",
       "    }\n",
       "</style>\n",
       "<table border=\"1\" class=\"dataframe\">\n",
       "  <thead>\n",
       "    <tr style=\"text-align: right;\">\n",
       "      <th></th>\n",
       "      <th>Unnamed: 0</th>\n",
       "      <th>rain</th>\n",
       "      <th>tmax</th>\n",
       "      <th>tmin</th>\n",
       "    </tr>\n",
       "  </thead>\n",
       "  <tbody>\n",
       "    <tr>\n",
       "      <th>15336</th>\n",
       "      <td>2013-12-27 13:00:00</td>\n",
       "      <td>1.6</td>\n",
       "      <td>20.5</td>\n",
       "      <td>10.9</td>\n",
       "    </tr>\n",
       "    <tr>\n",
       "      <th>15337</th>\n",
       "      <td>2013-12-28 13:00:00</td>\n",
       "      <td>1.2</td>\n",
       "      <td>20.9</td>\n",
       "      <td>11.7</td>\n",
       "    </tr>\n",
       "    <tr>\n",
       "      <th>15338</th>\n",
       "      <td>2013-12-29 13:00:00</td>\n",
       "      <td>25.3</td>\n",
       "      <td>20.0</td>\n",
       "      <td>12.2</td>\n",
       "    </tr>\n",
       "    <tr>\n",
       "      <th>15339</th>\n",
       "      <td>2013-12-30 13:00:00</td>\n",
       "      <td>27.7</td>\n",
       "      <td>12.1</td>\n",
       "      <td>10.7</td>\n",
       "    </tr>\n",
       "    <tr>\n",
       "      <th>15340</th>\n",
       "      <td>2013-12-31 13:00:00</td>\n",
       "      <td>42.5</td>\n",
       "      <td>10.4</td>\n",
       "      <td>7.1</td>\n",
       "    </tr>\n",
       "  </tbody>\n",
       "</table>\n",
       "</div>"
      ],
      "text/plain": [
       "                Unnamed: 0  rain  tmax  tmin\n",
       "15336  2013-12-27 13:00:00   1.6  20.5  10.9\n",
       "15337  2013-12-28 13:00:00   1.2  20.9  11.7\n",
       "15338  2013-12-29 13:00:00  25.3  20.0  12.2\n",
       "15339  2013-12-30 13:00:00  27.7  12.1  10.7\n",
       "15340  2013-12-31 13:00:00  42.5  10.4   7.1"
      ]
     },
     "execution_count": 6,
     "metadata": {},
     "output_type": "execute_result"
    }
   ],
   "source": [
    "dailyclim.tail()"
   ]
  },
  {
   "cell_type": "code",
   "execution_count": 7,
   "metadata": {},
   "outputs": [],
   "source": [
    "dailyclim.rename(columns={'Unnamed: 0' : 'year_month_hour'}, inplace=True)"
   ]
  },
  {
   "cell_type": "code",
   "execution_count": 8,
   "metadata": {},
   "outputs": [
    {
     "data": {
      "text/html": [
       "<div>\n",
       "<style scoped>\n",
       "    .dataframe tbody tr th:only-of-type {\n",
       "        vertical-align: middle;\n",
       "    }\n",
       "\n",
       "    .dataframe tbody tr th {\n",
       "        vertical-align: top;\n",
       "    }\n",
       "\n",
       "    .dataframe thead th {\n",
       "        text-align: right;\n",
       "    }\n",
       "</style>\n",
       "<table border=\"1\" class=\"dataframe\">\n",
       "  <thead>\n",
       "    <tr style=\"text-align: right;\">\n",
       "      <th></th>\n",
       "      <th>year_month_hour</th>\n",
       "      <th>rain</th>\n",
       "      <th>tmax</th>\n",
       "      <th>tmin</th>\n",
       "    </tr>\n",
       "  </thead>\n",
       "  <tbody>\n",
       "    <tr>\n",
       "      <th>0</th>\n",
       "      <td>1972-01-01 12:00:00</td>\n",
       "      <td>31.6</td>\n",
       "      <td>16.8</td>\n",
       "      <td>13.5</td>\n",
       "    </tr>\n",
       "    <tr>\n",
       "      <th>1</th>\n",
       "      <td>1972-01-02 12:00:00</td>\n",
       "      <td>28.3</td>\n",
       "      <td>20.6</td>\n",
       "      <td>8.8</td>\n",
       "    </tr>\n",
       "    <tr>\n",
       "      <th>2</th>\n",
       "      <td>1972-01-03 12:00:00</td>\n",
       "      <td>10.7</td>\n",
       "      <td>15.8</td>\n",
       "      <td>8.3</td>\n",
       "    </tr>\n",
       "  </tbody>\n",
       "</table>\n",
       "</div>"
      ],
      "text/plain": [
       "       year_month_hour  rain  tmax  tmin\n",
       "0  1972-01-01 12:00:00  31.6  16.8  13.5\n",
       "1  1972-01-02 12:00:00  28.3  20.6   8.8\n",
       "2  1972-01-03 12:00:00  10.7  15.8   8.3"
      ]
     },
     "execution_count": 8,
     "metadata": {},
     "output_type": "execute_result"
    }
   ],
   "source": [
    "dailyclim[:3]"
   ]
  },
  {
   "cell_type": "code",
   "execution_count": 9,
   "metadata": {},
   "outputs": [
    {
     "data": {
      "text/plain": [
       "year_month_hour     object\n",
       "rain               float64\n",
       "tmax               float64\n",
       "tmin               float64\n",
       "dtype: object"
      ]
     },
     "execution_count": 9,
     "metadata": {},
     "output_type": "execute_result"
    }
   ],
   "source": [
    "dailyclim.dtypes"
   ]
  },
  {
   "cell_type": "code",
   "execution_count": 33,
   "metadata": {},
   "outputs": [],
   "source": [
    "#dailyclim.index = pd.date_range(start='1972-01-01', periods=len(dailyclim)) cambiar el índice por fecha"
   ]
  },
  {
   "cell_type": "code",
   "execution_count": 48,
   "metadata": {},
   "outputs": [],
   "source": [
    "#dailyclim['year_month_hour']=pd.to_datetime(dailyclim.year_month_hour) cambiar el formato de la fecha"
   ]
  },
  {
   "cell_type": "code",
   "execution_count": null,
   "metadata": {},
   "outputs": [],
   "source": [
    "#dailyclim.drop('columna',axis=1, inplace=True) eliminar keys"
   ]
  },
  {
   "cell_type": "code",
   "execution_count": 10,
   "metadata": {},
   "outputs": [],
   "source": [
    "dailyclim['fecha'] = pd.to_datetime(dailyclim['year_month_hour']).dt.date\n",
    "dailyclim['hora'] = pd.to_datetime(dailyclim['year_month_hour']).dt.time #separar hora y fecha"
   ]
  },
  {
   "cell_type": "code",
   "execution_count": 11,
   "metadata": {},
   "outputs": [
    {
     "data": {
      "text/html": [
       "<div>\n",
       "<style scoped>\n",
       "    .dataframe tbody tr th:only-of-type {\n",
       "        vertical-align: middle;\n",
       "    }\n",
       "\n",
       "    .dataframe tbody tr th {\n",
       "        vertical-align: top;\n",
       "    }\n",
       "\n",
       "    .dataframe thead th {\n",
       "        text-align: right;\n",
       "    }\n",
       "</style>\n",
       "<table border=\"1\" class=\"dataframe\">\n",
       "  <thead>\n",
       "    <tr style=\"text-align: right;\">\n",
       "      <th></th>\n",
       "      <th>year_month_hour</th>\n",
       "      <th>rain</th>\n",
       "      <th>tmax</th>\n",
       "      <th>tmin</th>\n",
       "      <th>fecha</th>\n",
       "      <th>hora</th>\n",
       "    </tr>\n",
       "  </thead>\n",
       "  <tbody>\n",
       "    <tr>\n",
       "      <th>0</th>\n",
       "      <td>1972-01-01 12:00:00</td>\n",
       "      <td>31.6</td>\n",
       "      <td>16.8</td>\n",
       "      <td>13.5</td>\n",
       "      <td>1972-01-01</td>\n",
       "      <td>12:00:00</td>\n",
       "    </tr>\n",
       "    <tr>\n",
       "      <th>1</th>\n",
       "      <td>1972-01-02 12:00:00</td>\n",
       "      <td>28.3</td>\n",
       "      <td>20.6</td>\n",
       "      <td>8.8</td>\n",
       "      <td>1972-01-02</td>\n",
       "      <td>12:00:00</td>\n",
       "    </tr>\n",
       "    <tr>\n",
       "      <th>2</th>\n",
       "      <td>1972-01-03 12:00:00</td>\n",
       "      <td>10.7</td>\n",
       "      <td>15.8</td>\n",
       "      <td>8.3</td>\n",
       "      <td>1972-01-03</td>\n",
       "      <td>12:00:00</td>\n",
       "    </tr>\n",
       "  </tbody>\n",
       "</table>\n",
       "</div>"
      ],
      "text/plain": [
       "       year_month_hour  rain  tmax  tmin       fecha      hora\n",
       "0  1972-01-01 12:00:00  31.6  16.8  13.5  1972-01-01  12:00:00\n",
       "1  1972-01-02 12:00:00  28.3  20.6   8.8  1972-01-02  12:00:00\n",
       "2  1972-01-03 12:00:00  10.7  15.8   8.3  1972-01-03  12:00:00"
      ]
     },
     "execution_count": 11,
     "metadata": {},
     "output_type": "execute_result"
    }
   ],
   "source": [
    "dailyclim[:3]"
   ]
  },
  {
   "cell_type": "code",
   "execution_count": 12,
   "metadata": {},
   "outputs": [],
   "source": [
    "dailyclim['y'] = pd.DatetimeIndex(dailyclim['fecha']).year\n",
    "dailyclim['m'] = pd.DatetimeIndex(dailyclim['fecha']).month #separar mes y año"
   ]
  },
  {
   "cell_type": "code",
   "execution_count": 13,
   "metadata": {},
   "outputs": [
    {
     "data": {
      "text/html": [
       "<div>\n",
       "<style scoped>\n",
       "    .dataframe tbody tr th:only-of-type {\n",
       "        vertical-align: middle;\n",
       "    }\n",
       "\n",
       "    .dataframe tbody tr th {\n",
       "        vertical-align: top;\n",
       "    }\n",
       "\n",
       "    .dataframe thead th {\n",
       "        text-align: right;\n",
       "    }\n",
       "</style>\n",
       "<table border=\"1\" class=\"dataframe\">\n",
       "  <thead>\n",
       "    <tr style=\"text-align: right;\">\n",
       "      <th></th>\n",
       "      <th>year_month_hour</th>\n",
       "      <th>rain</th>\n",
       "      <th>tmax</th>\n",
       "      <th>tmin</th>\n",
       "      <th>fecha</th>\n",
       "      <th>hora</th>\n",
       "      <th>y</th>\n",
       "      <th>m</th>\n",
       "    </tr>\n",
       "  </thead>\n",
       "  <tbody>\n",
       "    <tr>\n",
       "      <th>0</th>\n",
       "      <td>1972-01-01 12:00:00</td>\n",
       "      <td>31.6</td>\n",
       "      <td>16.8</td>\n",
       "      <td>13.5</td>\n",
       "      <td>1972-01-01</td>\n",
       "      <td>12:00:00</td>\n",
       "      <td>1972</td>\n",
       "      <td>1</td>\n",
       "    </tr>\n",
       "    <tr>\n",
       "      <th>1</th>\n",
       "      <td>1972-01-02 12:00:00</td>\n",
       "      <td>28.3</td>\n",
       "      <td>20.6</td>\n",
       "      <td>8.8</td>\n",
       "      <td>1972-01-02</td>\n",
       "      <td>12:00:00</td>\n",
       "      <td>1972</td>\n",
       "      <td>1</td>\n",
       "    </tr>\n",
       "    <tr>\n",
       "      <th>2</th>\n",
       "      <td>1972-01-03 12:00:00</td>\n",
       "      <td>10.7</td>\n",
       "      <td>15.8</td>\n",
       "      <td>8.3</td>\n",
       "      <td>1972-01-03</td>\n",
       "      <td>12:00:00</td>\n",
       "      <td>1972</td>\n",
       "      <td>1</td>\n",
       "    </tr>\n",
       "    <tr>\n",
       "      <th>3</th>\n",
       "      <td>1972-01-04 12:00:00</td>\n",
       "      <td>11.3</td>\n",
       "      <td>12.9</td>\n",
       "      <td>7.7</td>\n",
       "      <td>1972-01-04</td>\n",
       "      <td>12:00:00</td>\n",
       "      <td>1972</td>\n",
       "      <td>1</td>\n",
       "    </tr>\n",
       "    <tr>\n",
       "      <th>4</th>\n",
       "      <td>1972-01-05 12:00:00</td>\n",
       "      <td>0.0</td>\n",
       "      <td>13.2</td>\n",
       "      <td>7.0</td>\n",
       "      <td>1972-01-05</td>\n",
       "      <td>12:00:00</td>\n",
       "      <td>1972</td>\n",
       "      <td>1</td>\n",
       "    </tr>\n",
       "  </tbody>\n",
       "</table>\n",
       "</div>"
      ],
      "text/plain": [
       "       year_month_hour  rain  tmax  tmin       fecha      hora     y  m\n",
       "0  1972-01-01 12:00:00  31.6  16.8  13.5  1972-01-01  12:00:00  1972  1\n",
       "1  1972-01-02 12:00:00  28.3  20.6   8.8  1972-01-02  12:00:00  1972  1\n",
       "2  1972-01-03 12:00:00  10.7  15.8   8.3  1972-01-03  12:00:00  1972  1\n",
       "3  1972-01-04 12:00:00  11.3  12.9   7.7  1972-01-04  12:00:00  1972  1\n",
       "4  1972-01-05 12:00:00   0.0  13.2   7.0  1972-01-05  12:00:00  1972  1"
      ]
     },
     "execution_count": 13,
     "metadata": {},
     "output_type": "execute_result"
    }
   ],
   "source": [
    "dailyclim.head()"
   ]
  },
  {
   "cell_type": "code",
   "execution_count": 14,
   "metadata": {},
   "outputs": [
    {
     "data": {
      "text/html": [
       "<div>\n",
       "<style scoped>\n",
       "    .dataframe tbody tr th:only-of-type {\n",
       "        vertical-align: middle;\n",
       "    }\n",
       "\n",
       "    .dataframe tbody tr th {\n",
       "        vertical-align: top;\n",
       "    }\n",
       "\n",
       "    .dataframe thead th {\n",
       "        text-align: right;\n",
       "    }\n",
       "</style>\n",
       "<table border=\"1\" class=\"dataframe\">\n",
       "  <thead>\n",
       "    <tr style=\"text-align: right;\">\n",
       "      <th></th>\n",
       "      <th>y</th>\n",
       "      <th>m</th>\n",
       "      <th>rain</th>\n",
       "      <th>tmax</th>\n",
       "      <th>tmin</th>\n",
       "      <th>fecha</th>\n",
       "    </tr>\n",
       "  </thead>\n",
       "  <tbody>\n",
       "    <tr>\n",
       "      <th>30</th>\n",
       "      <td>1972</td>\n",
       "      <td>1</td>\n",
       "      <td>2.2</td>\n",
       "      <td>11.5</td>\n",
       "      <td>5.3</td>\n",
       "      <td>1972-01-31</td>\n",
       "    </tr>\n",
       "    <tr>\n",
       "      <th>31</th>\n",
       "      <td>1972</td>\n",
       "      <td>2</td>\n",
       "      <td>0.0</td>\n",
       "      <td>14.5</td>\n",
       "      <td>3.4</td>\n",
       "      <td>1972-02-01</td>\n",
       "    </tr>\n",
       "    <tr>\n",
       "      <th>32</th>\n",
       "      <td>1972</td>\n",
       "      <td>2</td>\n",
       "      <td>0.0</td>\n",
       "      <td>19.3</td>\n",
       "      <td>4.9</td>\n",
       "      <td>1972-02-02</td>\n",
       "    </tr>\n",
       "    <tr>\n",
       "      <th>33</th>\n",
       "      <td>1972</td>\n",
       "      <td>2</td>\n",
       "      <td>0.0</td>\n",
       "      <td>19.2</td>\n",
       "      <td>8.8</td>\n",
       "      <td>1972-02-03</td>\n",
       "    </tr>\n",
       "    <tr>\n",
       "      <th>34</th>\n",
       "      <td>1972</td>\n",
       "      <td>2</td>\n",
       "      <td>7.4</td>\n",
       "      <td>13.9</td>\n",
       "      <td>11.6</td>\n",
       "      <td>1972-02-04</td>\n",
       "    </tr>\n",
       "    <tr>\n",
       "      <th>35</th>\n",
       "      <td>1972</td>\n",
       "      <td>2</td>\n",
       "      <td>0.0</td>\n",
       "      <td>18.6</td>\n",
       "      <td>7.9</td>\n",
       "      <td>1972-02-05</td>\n",
       "    </tr>\n",
       "    <tr>\n",
       "      <th>36</th>\n",
       "      <td>1972</td>\n",
       "      <td>2</td>\n",
       "      <td>0.0</td>\n",
       "      <td>22.1</td>\n",
       "      <td>8.3</td>\n",
       "      <td>1972-02-06</td>\n",
       "    </tr>\n",
       "    <tr>\n",
       "      <th>37</th>\n",
       "      <td>1972</td>\n",
       "      <td>2</td>\n",
       "      <td>0.0</td>\n",
       "      <td>20.8</td>\n",
       "      <td>9.1</td>\n",
       "      <td>1972-02-07</td>\n",
       "    </tr>\n",
       "    <tr>\n",
       "      <th>38</th>\n",
       "      <td>1972</td>\n",
       "      <td>2</td>\n",
       "      <td>30.1</td>\n",
       "      <td>11.4</td>\n",
       "      <td>12.3</td>\n",
       "      <td>1972-02-08</td>\n",
       "    </tr>\n",
       "    <tr>\n",
       "      <th>39</th>\n",
       "      <td>1972</td>\n",
       "      <td>2</td>\n",
       "      <td>0.0</td>\n",
       "      <td>16.1</td>\n",
       "      <td>4.8</td>\n",
       "      <td>1972-02-09</td>\n",
       "    </tr>\n",
       "  </tbody>\n",
       "</table>\n",
       "</div>"
      ],
      "text/plain": [
       "       y  m  rain  tmax  tmin       fecha\n",
       "30  1972  1   2.2  11.5   5.3  1972-01-31\n",
       "31  1972  2   0.0  14.5   3.4  1972-02-01\n",
       "32  1972  2   0.0  19.3   4.9  1972-02-02\n",
       "33  1972  2   0.0  19.2   8.8  1972-02-03\n",
       "34  1972  2   7.4  13.9  11.6  1972-02-04\n",
       "35  1972  2   0.0  18.6   7.9  1972-02-05\n",
       "36  1972  2   0.0  22.1   8.3  1972-02-06\n",
       "37  1972  2   0.0  20.8   9.1  1972-02-07\n",
       "38  1972  2  30.1  11.4  12.3  1972-02-08\n",
       "39  1972  2   0.0  16.1   4.8  1972-02-09"
      ]
     },
     "execution_count": 14,
     "metadata": {},
     "output_type": "execute_result"
    }
   ],
   "source": [
    "dailyclim=dailyclim[['y', 'm','rain','tmax','tmin','fecha']] #ordenar DtF\n",
    "dailyclim[30:40]"
   ]
  },
  {
   "cell_type": "markdown",
   "metadata": {},
   "source": [
    "Temperatura máxima, mínima y lluvia total por mes"
   ]
  },
  {
   "cell_type": "code",
   "execution_count": 15,
   "metadata": {},
   "outputs": [],
   "source": [
    "groups = dailyclim.groupby('m')"
   ]
  },
  {
   "cell_type": "code",
   "execution_count": 63,
   "metadata": {},
   "outputs": [
    {
     "name": "stdout",
     "output_type": "stream",
     "text": [
      "1\n",
      "      y  m  rain  tmax  tmin       fecha\n",
      "0  1972  1  31.6  16.8  13.5  1972-01-01\n",
      "1  1972  1  28.3  20.6   8.8  1972-01-02\n",
      "2  1972  1  10.7  15.8   8.3  1972-01-03\n",
      "3  1972  1  11.3  12.9   7.7  1972-01-04\n",
      "4  1972  1   0.0  13.2   7.0  1972-01-05\n",
      "2\n",
      "       y  m  rain  tmax  tmin       fecha\n",
      "31  1972  2   0.0  14.5   3.4  1972-02-01\n",
      "32  1972  2   0.0  19.3   4.9  1972-02-02\n",
      "33  1972  2   0.0  19.2   8.8  1972-02-03\n",
      "34  1972  2   7.4  13.9  11.6  1972-02-04\n",
      "35  1972  2   0.0  18.6   7.9  1972-02-05\n",
      "3\n",
      "       y  m   rain  tmax  tmin       fecha\n",
      "60  1972  3    0.0  18.9  12.6  1972-03-01\n",
      "61  1972  3    0.0  21.7  14.0  1972-03-02\n",
      "62  1972  3   17.4  19.4  12.8  1972-03-03\n",
      "63  1972  3  118.9  15.7  13.7  1972-03-04\n",
      "64  1972  3    0.0  13.3   6.0  1972-03-05\n",
      "4\n",
      "       y  m  rain  tmax  tmin       fecha\n",
      "91  1972  4   7.0  12.4   9.8  1972-04-01\n",
      "92  1972  4   0.0  14.6   8.1  1972-04-02\n",
      "93  1972  4   2.2  14.5   7.9  1972-04-03\n",
      "94  1972  4   0.0  15.5   9.7  1972-04-04\n",
      "95  1972  4  18.0  12.4  11.6  1972-04-05\n",
      "5\n",
      "        y  m  rain  tmax  tmin       fecha\n",
      "121  1972  5   0.0   9.3   5.1  1972-05-01\n",
      "122  1972  5  13.5   9.0   5.3  1972-05-02\n",
      "123  1972  5  23.4  10.6   7.4  1972-05-03\n",
      "124  1972  5   0.0   7.3   2.4  1972-05-04\n",
      "125  1972  5   2.2  11.1   4.8  1972-05-05\n",
      "6\n",
      "        y  m  rain  tmax  tmin       fecha\n",
      "152  1972  6  41.8   9.0   0.4  1972-06-01\n",
      "153  1972  6   1.3   9.5   4.6  1972-06-02\n",
      "154  1972  6   0.0   4.5  -0.7  1972-06-03\n",
      "155  1972  6   1.7   8.7   0.1  1972-06-04\n",
      "156  1972  6   0.0  10.4   3.5  1972-06-05\n",
      "7\n",
      "        y  m  rain  tmax  tmin       fecha\n",
      "182  1972  7  65.3   6.6   1.5  1972-07-01\n",
      "183  1972  7  20.1   5.0   4.2  1972-07-02\n",
      "184  1972  7   4.7   1.7   0.9  1972-07-03\n",
      "185  1972  7   0.0   3.3  -0.4  1972-07-04\n",
      "186  1972  7   0.0   1.9   0.3  1972-07-05\n",
      "8\n",
      "        y  m  rain  tmax  tmin       fecha\n",
      "213  1972  8   0.0   5.7  -1.5  1972-08-01\n",
      "214  1972  8   0.0   5.8  -1.4  1972-08-02\n",
      "215  1972  8   0.0   6.5  -1.6  1972-08-03\n",
      "216  1972  8   0.0   6.4  -1.0  1972-08-04\n",
      "217  1972  8   0.0   4.9   1.4  1972-08-05\n",
      "9\n",
      "        y  m  rain  tmax  tmin       fecha\n",
      "244  1972  9  11.2  12.7   8.3  1972-09-01\n",
      "245  1972  9   2.5   9.0   2.0  1972-09-02\n",
      "246  1972  9   0.0   9.6   2.0  1972-09-03\n",
      "247  1972  9   0.0   9.4   0.5  1972-09-04\n",
      "248  1972  9   0.0   8.1   2.7  1972-09-05\n",
      "10\n",
      "        y   m  rain  tmax  tmin       fecha\n",
      "274  1972  10   3.3  13.0   1.2  1972-10-01\n",
      "275  1972  10  22.7   7.4  -0.4  1972-10-02\n",
      "276  1972  10   2.0  10.9   5.6  1972-10-03\n",
      "277  1972  10   0.0   8.2   4.8  1972-10-04\n",
      "278  1972  10  35.8   7.4   5.7  1972-10-05\n",
      "11\n",
      "        y   m  rain  tmax  tmin       fecha\n",
      "305  1972  11   5.1  11.8   4.4  1972-11-01\n",
      "306  1972  11  49.6   9.7   3.7  1972-11-02\n",
      "307  1972  11   0.0  16.0   6.9  1972-11-03\n",
      "308  1972  11  23.0  16.2   5.4  1972-11-04\n",
      "309  1972  11   2.9  15.6   9.1  1972-11-05\n",
      "12\n",
      "        y   m  rain  tmax  tmin       fecha\n",
      "335  1972  12   0.0  14.7   7.0  1972-12-01\n",
      "336  1972  12   0.0  19.9   4.6  1972-12-02\n",
      "337  1972  12   4.5  15.9   9.9  1972-12-03\n",
      "338  1972  12   0.0  13.1   6.6  1972-12-04\n",
      "339  1972  12   0.0  15.7   4.1  1972-12-05\n"
     ]
    }
   ],
   "source": [
    "for m, group in groups:\n",
    "    print(m)\n",
    "    print(group.head())"
   ]
  },
  {
   "cell_type": "code",
   "execution_count": 16,
   "metadata": {},
   "outputs": [
    {
     "data": {
      "text/html": [
       "<div>\n",
       "<style scoped>\n",
       "    .dataframe tbody tr th:only-of-type {\n",
       "        vertical-align: middle;\n",
       "    }\n",
       "\n",
       "    .dataframe tbody tr th {\n",
       "        vertical-align: top;\n",
       "    }\n",
       "\n",
       "    .dataframe thead th {\n",
       "        text-align: right;\n",
       "    }\n",
       "</style>\n",
       "<table border=\"1\" class=\"dataframe\">\n",
       "  <thead>\n",
       "    <tr style=\"text-align: right;\">\n",
       "      <th></th>\n",
       "      <th>y</th>\n",
       "      <th>rain</th>\n",
       "      <th>tmax</th>\n",
       "      <th>tmin</th>\n",
       "    </tr>\n",
       "    <tr>\n",
       "      <th>m</th>\n",
       "      <th></th>\n",
       "      <th></th>\n",
       "      <th></th>\n",
       "      <th></th>\n",
       "    </tr>\n",
       "  </thead>\n",
       "  <tbody>\n",
       "    <tr>\n",
       "      <th>1</th>\n",
       "      <td>1992.500000</td>\n",
       "      <td>13.907757</td>\n",
       "      <td>17.022350</td>\n",
       "      <td>9.626190</td>\n",
       "    </tr>\n",
       "    <tr>\n",
       "      <th>2</th>\n",
       "      <td>1992.495366</td>\n",
       "      <td>10.937405</td>\n",
       "      <td>17.337152</td>\n",
       "      <td>9.950716</td>\n",
       "    </tr>\n",
       "    <tr>\n",
       "      <th>3</th>\n",
       "      <td>1992.500000</td>\n",
       "      <td>11.724808</td>\n",
       "      <td>15.704224</td>\n",
       "      <td>9.054762</td>\n",
       "    </tr>\n",
       "    <tr>\n",
       "      <th>4</th>\n",
       "      <td>1992.500000</td>\n",
       "      <td>11.964286</td>\n",
       "      <td>13.031032</td>\n",
       "      <td>7.487540</td>\n",
       "    </tr>\n",
       "    <tr>\n",
       "      <th>5</th>\n",
       "      <td>1992.500000</td>\n",
       "      <td>12.620200</td>\n",
       "      <td>10.321352</td>\n",
       "      <td>5.565975</td>\n",
       "    </tr>\n",
       "    <tr>\n",
       "      <th>6</th>\n",
       "      <td>1992.500000</td>\n",
       "      <td>10.442063</td>\n",
       "      <td>8.092698</td>\n",
       "      <td>3.651429</td>\n",
       "    </tr>\n",
       "    <tr>\n",
       "      <th>7</th>\n",
       "      <td>1992.500000</td>\n",
       "      <td>9.306221</td>\n",
       "      <td>7.713594</td>\n",
       "      <td>3.240783</td>\n",
       "    </tr>\n",
       "    <tr>\n",
       "      <th>8</th>\n",
       "      <td>1992.500000</td>\n",
       "      <td>9.133410</td>\n",
       "      <td>8.815131</td>\n",
       "      <td>3.437711</td>\n",
       "    </tr>\n",
       "    <tr>\n",
       "      <th>9</th>\n",
       "      <td>1992.500000</td>\n",
       "      <td>11.718175</td>\n",
       "      <td>10.677302</td>\n",
       "      <td>4.513968</td>\n",
       "    </tr>\n",
       "    <tr>\n",
       "      <th>10</th>\n",
       "      <td>1992.500000</td>\n",
       "      <td>13.048618</td>\n",
       "      <td>12.387097</td>\n",
       "      <td>5.522427</td>\n",
       "    </tr>\n",
       "    <tr>\n",
       "      <th>11</th>\n",
       "      <td>1992.500000</td>\n",
       "      <td>11.192222</td>\n",
       "      <td>14.079127</td>\n",
       "      <td>6.733016</td>\n",
       "    </tr>\n",
       "    <tr>\n",
       "      <th>12</th>\n",
       "      <td>1992.500000</td>\n",
       "      <td>12.520891</td>\n",
       "      <td>15.805376</td>\n",
       "      <td>8.478418</td>\n",
       "    </tr>\n",
       "  </tbody>\n",
       "</table>\n",
       "</div>"
      ],
      "text/plain": [
       "              y       rain       tmax      tmin\n",
       "m                                              \n",
       "1   1992.500000  13.907757  17.022350  9.626190\n",
       "2   1992.495366  10.937405  17.337152  9.950716\n",
       "3   1992.500000  11.724808  15.704224  9.054762\n",
       "4   1992.500000  11.964286  13.031032  7.487540\n",
       "5   1992.500000  12.620200  10.321352  5.565975\n",
       "6   1992.500000  10.442063   8.092698  3.651429\n",
       "7   1992.500000   9.306221   7.713594  3.240783\n",
       "8   1992.500000   9.133410   8.815131  3.437711\n",
       "9   1992.500000  11.718175  10.677302  4.513968\n",
       "10  1992.500000  13.048618  12.387097  5.522427\n",
       "11  1992.500000  11.192222  14.079127  6.733016\n",
       "12  1992.500000  12.520891  15.805376  8.478418"
      ]
     },
     "execution_count": 16,
     "metadata": {},
     "output_type": "execute_result"
    }
   ],
   "source": [
    "clim_temp = groups.mean()\n",
    "clim_temp"
   ]
  },
  {
   "cell_type": "code",
   "execution_count": 17,
   "metadata": {},
   "outputs": [],
   "source": [
    "rain=groups.sum()"
   ]
  },
  {
   "cell_type": "code",
   "execution_count": 18,
   "metadata": {},
   "outputs": [
    {
     "name": "stdout",
     "output_type": "stream",
     "text": [
      "          y     rain\n",
      "m                   \n",
      "1   2594235  18107.9\n",
      "2   2365092  12982.7\n",
      "3   2594235  15265.7\n",
      "4   2510550  15075.0\n",
      "5   2594235  16431.5\n",
      "6   2510550  13157.0\n",
      "7   2594235  12116.7\n",
      "8   2594235  11891.7\n",
      "9   2510550  14764.9\n",
      "10  2594235  16989.3\n",
      "11  2510550  14102.2\n",
      "12  2594235  16302.2\n"
     ]
    }
   ],
   "source": [
    "rain=rain[['y','rain']]\n",
    "print rain"
   ]
  },
  {
   "cell_type": "markdown",
   "metadata": {},
   "source": [
    "Climatología del periodo 1981-2000"
   ]
  },
  {
   "cell_type": "code",
   "execution_count": 19,
   "metadata": {},
   "outputs": [
    {
     "data": {
      "text/html": [
       "<div>\n",
       "<style scoped>\n",
       "    .dataframe tbody tr th:only-of-type {\n",
       "        vertical-align: middle;\n",
       "    }\n",
       "\n",
       "    .dataframe tbody tr th {\n",
       "        vertical-align: top;\n",
       "    }\n",
       "\n",
       "    .dataframe thead th {\n",
       "        text-align: right;\n",
       "    }\n",
       "</style>\n",
       "<table border=\"1\" class=\"dataframe\">\n",
       "  <thead>\n",
       "    <tr style=\"text-align: right;\">\n",
       "      <th></th>\n",
       "      <th>y</th>\n",
       "      <th>rain</th>\n",
       "      <th>tmax</th>\n",
       "      <th>tmin</th>\n",
       "    </tr>\n",
       "    <tr>\n",
       "      <th>m</th>\n",
       "      <th></th>\n",
       "      <th></th>\n",
       "      <th></th>\n",
       "      <th></th>\n",
       "    </tr>\n",
       "  </thead>\n",
       "  <tbody>\n",
       "    <tr>\n",
       "      <th>1</th>\n",
       "      <td>1992.500000</td>\n",
       "      <td>13.907757</td>\n",
       "      <td>17.022350</td>\n",
       "      <td>9.626190</td>\n",
       "    </tr>\n",
       "    <tr>\n",
       "      <th>2</th>\n",
       "      <td>1992.495366</td>\n",
       "      <td>10.937405</td>\n",
       "      <td>17.337152</td>\n",
       "      <td>9.950716</td>\n",
       "    </tr>\n",
       "    <tr>\n",
       "      <th>3</th>\n",
       "      <td>1992.500000</td>\n",
       "      <td>11.724808</td>\n",
       "      <td>15.704224</td>\n",
       "      <td>9.054762</td>\n",
       "    </tr>\n",
       "    <tr>\n",
       "      <th>4</th>\n",
       "      <td>1992.500000</td>\n",
       "      <td>11.964286</td>\n",
       "      <td>13.031032</td>\n",
       "      <td>7.487540</td>\n",
       "    </tr>\n",
       "    <tr>\n",
       "      <th>5</th>\n",
       "      <td>1992.500000</td>\n",
       "      <td>12.620200</td>\n",
       "      <td>10.321352</td>\n",
       "      <td>5.565975</td>\n",
       "    </tr>\n",
       "    <tr>\n",
       "      <th>6</th>\n",
       "      <td>1992.500000</td>\n",
       "      <td>10.442063</td>\n",
       "      <td>8.092698</td>\n",
       "      <td>3.651429</td>\n",
       "    </tr>\n",
       "    <tr>\n",
       "      <th>7</th>\n",
       "      <td>1992.500000</td>\n",
       "      <td>9.306221</td>\n",
       "      <td>7.713594</td>\n",
       "      <td>3.240783</td>\n",
       "    </tr>\n",
       "    <tr>\n",
       "      <th>8</th>\n",
       "      <td>1992.500000</td>\n",
       "      <td>9.133410</td>\n",
       "      <td>8.815131</td>\n",
       "      <td>3.437711</td>\n",
       "    </tr>\n",
       "    <tr>\n",
       "      <th>9</th>\n",
       "      <td>1992.500000</td>\n",
       "      <td>11.718175</td>\n",
       "      <td>10.677302</td>\n",
       "      <td>4.513968</td>\n",
       "    </tr>\n",
       "    <tr>\n",
       "      <th>10</th>\n",
       "      <td>1992.500000</td>\n",
       "      <td>13.048618</td>\n",
       "      <td>12.387097</td>\n",
       "      <td>5.522427</td>\n",
       "    </tr>\n",
       "    <tr>\n",
       "      <th>11</th>\n",
       "      <td>1992.500000</td>\n",
       "      <td>11.192222</td>\n",
       "      <td>14.079127</td>\n",
       "      <td>6.733016</td>\n",
       "    </tr>\n",
       "    <tr>\n",
       "      <th>12</th>\n",
       "      <td>1992.500000</td>\n",
       "      <td>12.520891</td>\n",
       "      <td>15.805376</td>\n",
       "      <td>8.478418</td>\n",
       "    </tr>\n",
       "  </tbody>\n",
       "</table>\n",
       "</div>"
      ],
      "text/plain": [
       "              y       rain       tmax      tmin\n",
       "m                                              \n",
       "1   1992.500000  13.907757  17.022350  9.626190\n",
       "2   1992.495366  10.937405  17.337152  9.950716\n",
       "3   1992.500000  11.724808  15.704224  9.054762\n",
       "4   1992.500000  11.964286  13.031032  7.487540\n",
       "5   1992.500000  12.620200  10.321352  5.565975\n",
       "6   1992.500000  10.442063   8.092698  3.651429\n",
       "7   1992.500000   9.306221   7.713594  3.240783\n",
       "8   1992.500000   9.133410   8.815131  3.437711\n",
       "9   1992.500000  11.718175  10.677302  4.513968\n",
       "10  1992.500000  13.048618  12.387097  5.522427\n",
       "11  1992.500000  11.192222  14.079127  6.733016\n",
       "12  1992.500000  12.520891  15.805376  8.478418"
      ]
     },
     "execution_count": 19,
     "metadata": {},
     "output_type": "execute_result"
    }
   ],
   "source": [
    "clim_temp.query('y >= 1981 & y <= 2000')[:] #seleccionar años específicos"
   ]
  },
  {
   "cell_type": "code",
   "execution_count": 20,
   "metadata": {},
   "outputs": [
    {
     "data": {
      "text/plain": [
       "<matplotlib.legend.Legend at 0x92c3d30>"
      ]
     },
     "execution_count": 20,
     "metadata": {},
     "output_type": "execute_result"
    },
    {
     "data": {
      "image/png": "[encoded data removed]",
      "text/plain": [
       "<Figure size 432x288 with 1 Axes>"
      ]
     },
     "metadata": {},
     "output_type": "display_data"
    }
   ],
   "source": [
    "clim_temp['tmax'].plot()\n",
    "plt.xlabel(\"$Mes$\")\n",
    "plt.ylabel(\"$Grados$\")\n",
    "plt.title(\"Temperatura maxima 1981-2000\")\n",
    "plt.legend(loc=4)"
   ]
  },
  {
   "cell_type": "code",
   "execution_count": 21,
   "metadata": {},
   "outputs": [
    {
     "data": {
      "text/plain": [
       "<matplotlib.legend.Legend at 0x96d1748>"
      ]
     },
     "execution_count": 21,
     "metadata": {},
     "output_type": "execute_result"
    },
    {
     "data": {
      "image/png": "[encoded data removed]",
      "text/plain": [
       "<Figure size 432x288 with 1 Axes>"
      ]
     },
     "metadata": {},
     "output_type": "display_data"
    }
   ],
   "source": [
    "clim_temp['tmin'].plot()\n",
    "plt.xlabel(\"$Mes$\")\n",
    "plt.ylabel(\"$Grados$\")\n",
    "plt.title(\"Temperatura minima 1981-2000\")\n",
    "plt.legend(loc=4)"
   ]
  },
  {
   "cell_type": "code",
   "execution_count": 22,
   "metadata": {},
   "outputs": [
    {
     "data": {
      "text/plain": [
       "<matplotlib.legend.Legend at 0x91fcc50>"
      ]
     },
     "execution_count": 22,
     "metadata": {},
     "output_type": "execute_result"
    },
    {
     "data": {
      "image/png": "[encoded data removed]",
      "text/plain": [
       "<Figure size 432x288 with 1 Axes>"
      ]
     },
     "metadata": {},
     "output_type": "display_data"
    }
   ],
   "source": [
    "rain['rain'].plot()\n",
    "plt.xlabel(\"$Mes$\")\n",
    "plt.ylabel(\"$Milimetros$\")\n",
    "plt.title(\"Precipitacion total 1981-2000\")\n",
    "plt.legend(loc=4)"
   ]
  },
  {
   "cell_type": "code",
   "execution_count": null,
   "metadata": {},
   "outputs": [],
   "source": []
  }
 ],
 "metadata": {
  "kernelspec": {
   "display_name": "Python 2",
   "language": "python",
   "name": "python2"
  },
  "language_info": {
   "codemirror_mode": {
    "name": "ipython",
    "version": 2
   },
   "file_extension": ".py",
   "mimetype": "text/x-python",
   "name": "python",
   "nbconvert_exporter": "python",
   "pygments_lexer": "ipython2",
   "version": "2.7.15"
  }
 },
 "nbformat": 4,
 "nbformat_minor": 2
}
